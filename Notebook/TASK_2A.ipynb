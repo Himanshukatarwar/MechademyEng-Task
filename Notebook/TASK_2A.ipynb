{
  "nbformat": 4,
  "nbformat_minor": 0,
  "metadata": {
    "colab": {
      "name": "TASK 2A.ipynb",
      "provenance": [],
      "collapsed_sections": [],
      "toc_visible": true
    },
    "kernelspec": {
      "display_name": "Python 3",
      "name": "python3"
    }
  },
  "cells": [
    {
      "cell_type": "markdown",
      "metadata": {
        "id": "8oaherXmOsGk"
      },
      "source": [
        "# Introduction"
      ]
    },
    {
      "cell_type": "markdown",
      "metadata": {
        "id": "o5MIS8KGOpmO"
      },
      "source": [
        "<h5>Task: Regression Task<br>\n",
        "<h5>Metrics:- \n",
        "\n",
        "1.   Root Mean square error\n",
        "2.   Mean absolute percentage error\n",
        "\n",
        "\n",
        "Predict the GT_turbine_decay_coefficient \n",
        "\n"
      ]
    },
    {
      "cell_type": "markdown",
      "metadata": {
        "id": "39XM6gZBO2LL"
      },
      "source": [
        "# Step to Follow <br>\n",
        "\n",
        "\n",
        "1.   Clean the data\n",
        "2.   Remove unwanted data/Feature\n",
        "3.   Remove most correlated Feature\n",
        "4.   Train Model \n",
        "5. Summary\n",
        "\n"
      ]
    },
    {
      "cell_type": "markdown",
      "metadata": {
        "id": "MqSUclaUO-kh"
      },
      "source": [
        "# Import Library"
      ]
    },
    {
      "cell_type": "code",
      "metadata": {
        "id": "mvWa4LwZBbpZ"
      },
      "source": [
        "import pandas as pd\n",
        "from sklearn.model_selection import train_test_split\n",
        "import warnings\n",
        "warnings.filterwarnings(\"ignore\")\n",
        "from sklearn.model_selection import GridSearchCV\n",
        "from sklearn.linear_model import LogisticRegression\n",
        "from sklearn.ensemble import RandomForestRegressor\n",
        "from sklearn.model_selection import RandomizedSearchCV\n",
        "import numpy as np\n",
        "import matplotlib.pyplot as plt\n",
        "import matplotlib.pyplot as plt\n",
        "import seaborn as sns\n",
        "import matplotlib.style as style\n",
        "style.use('fivethirtyeight')\n"
      ],
      "execution_count": 1,
      "outputs": []
    },
    {
      "cell_type": "markdown",
      "metadata": {
        "id": "76KHUTBPPDYS"
      },
      "source": [
        "# Reading Data "
      ]
    },
    {
      "cell_type": "code",
      "metadata": {
        "id": "5-dnOb7qQ7EL",
        "colab": {
          "base_uri": "https://localhost:8080/",
          "height": 232
        },
        "outputId": "8928e04e-214b-4b58-d7c4-6d99a4f16b04"
      },
      "source": [
        "## Reading dataset\n",
        "df = pd.read_csv(\"/content/drive/My Drive/propulsion.csv\")\n",
        "df = df.drop([df.columns[0]],axis = 1)\n",
        "df.columns = ['lever_pos', 'ship_spd', 'Gasturbine_torq', 'Gasturbine_rev',\n",
        "       'Gasgen_rev', 'starboard_torq', 'propeller_torq', 'hpturb_temp','GTcomp_intemp',\n",
        "       'GTcomp_outtemp', 'HPturb_press','GTcomp_inpress', 'GTcomp_outpress', 'Gastrub_press',\n",
        "       'turb_inject', 'Fuelflow', 'GTcomp_decay', 'GTturb_comp']\n",
        "print(df.shape)\n",
        "df.head()"
      ],
      "execution_count": 2,
      "outputs": [
        {
          "output_type": "stream",
          "text": [
            "(10000, 18)\n"
          ],
          "name": "stdout"
        },
        {
          "output_type": "execute_result",
          "data": {
            "text/html": [
              "<div>\n",
              "<style scoped>\n",
              "    .dataframe tbody tr th:only-of-type {\n",
              "        vertical-align: middle;\n",
              "    }\n",
              "\n",
              "    .dataframe tbody tr th {\n",
              "        vertical-align: top;\n",
              "    }\n",
              "\n",
              "    .dataframe thead th {\n",
              "        text-align: right;\n",
              "    }\n",
              "</style>\n",
              "<table border=\"1\" class=\"dataframe\">\n",
              "  <thead>\n",
              "    <tr style=\"text-align: right;\">\n",
              "      <th></th>\n",
              "      <th>lever_pos</th>\n",
              "      <th>ship_spd</th>\n",
              "      <th>Gasturbine_torq</th>\n",
              "      <th>Gasturbine_rev</th>\n",
              "      <th>Gasgen_rev</th>\n",
              "      <th>starboard_torq</th>\n",
              "      <th>propeller_torq</th>\n",
              "      <th>hpturb_temp</th>\n",
              "      <th>GTcomp_intemp</th>\n",
              "      <th>GTcomp_outtemp</th>\n",
              "      <th>HPturb_press</th>\n",
              "      <th>GTcomp_inpress</th>\n",
              "      <th>GTcomp_outpress</th>\n",
              "      <th>Gastrub_press</th>\n",
              "      <th>turb_inject</th>\n",
              "      <th>Fuelflow</th>\n",
              "      <th>GTcomp_decay</th>\n",
              "      <th>GTturb_comp</th>\n",
              "    </tr>\n",
              "  </thead>\n",
              "  <tbody>\n",
              "    <tr>\n",
              "      <th>0</th>\n",
              "      <td>9.300</td>\n",
              "      <td>27.0</td>\n",
              "      <td>72762.205</td>\n",
              "      <td>3560.393</td>\n",
              "      <td>9753.812</td>\n",
              "      <td>644.806</td>\n",
              "      <td>644.806</td>\n",
              "      <td>1086.583</td>\n",
              "      <td>288.0</td>\n",
              "      <td>780.304</td>\n",
              "      <td>4.523</td>\n",
              "      <td>0.998</td>\n",
              "      <td>22.879</td>\n",
              "      <td>1.050</td>\n",
              "      <td>90.435</td>\n",
              "      <td>1.790</td>\n",
              "      <td>0.973</td>\n",
              "      <td>0.978</td>\n",
              "    </tr>\n",
              "    <tr>\n",
              "      <th>1</th>\n",
              "      <td>6.175</td>\n",
              "      <td>18.0</td>\n",
              "      <td>29760.552</td>\n",
              "      <td>2306.825</td>\n",
              "      <td>8780.012</td>\n",
              "      <td>246.011</td>\n",
              "      <td>246.011</td>\n",
              "      <td>776.921</td>\n",
              "      <td>288.0</td>\n",
              "      <td>665.511</td>\n",
              "      <td>2.518</td>\n",
              "      <td>0.998</td>\n",
              "      <td>13.438</td>\n",
              "      <td>1.030</td>\n",
              "      <td>34.596</td>\n",
              "      <td>0.685</td>\n",
              "      <td>0.995</td>\n",
              "      <td>0.975</td>\n",
              "    </tr>\n",
              "    <tr>\n",
              "      <th>2</th>\n",
              "      <td>3.144</td>\n",
              "      <td>9.0</td>\n",
              "      <td>8375.774</td>\n",
              "      <td>1386.739</td>\n",
              "      <td>7051.621</td>\n",
              "      <td>60.318</td>\n",
              "      <td>60.318</td>\n",
              "      <td>589.764</td>\n",
              "      <td>288.0</td>\n",
              "      <td>580.587</td>\n",
              "      <td>1.392</td>\n",
              "      <td>0.998</td>\n",
              "      <td>7.566</td>\n",
              "      <td>1.020</td>\n",
              "      <td>12.477</td>\n",
              "      <td>0.247</td>\n",
              "      <td>0.980</td>\n",
              "      <td>0.978</td>\n",
              "    </tr>\n",
              "    <tr>\n",
              "      <th>3</th>\n",
              "      <td>3.144</td>\n",
              "      <td>9.0</td>\n",
              "      <td>8377.589</td>\n",
              "      <td>1386.748</td>\n",
              "      <td>7098.469</td>\n",
              "      <td>60.339</td>\n",
              "      <td>60.339</td>\n",
              "      <td>570.651</td>\n",
              "      <td>288.0</td>\n",
              "      <td>576.565</td>\n",
              "      <td>1.390</td>\n",
              "      <td>0.998</td>\n",
              "      <td>7.409</td>\n",
              "      <td>1.021</td>\n",
              "      <td>11.678</td>\n",
              "      <td>0.231</td>\n",
              "      <td>0.984</td>\n",
              "      <td>1.000</td>\n",
              "    </tr>\n",
              "    <tr>\n",
              "      <th>4</th>\n",
              "      <td>6.175</td>\n",
              "      <td>18.0</td>\n",
              "      <td>29761.091</td>\n",
              "      <td>2306.825</td>\n",
              "      <td>8782.024</td>\n",
              "      <td>246.021</td>\n",
              "      <td>246.021</td>\n",
              "      <td>769.855</td>\n",
              "      <td>288.0</td>\n",
              "      <td>663.682</td>\n",
              "      <td>2.518</td>\n",
              "      <td>0.998</td>\n",
              "      <td>13.374</td>\n",
              "      <td>1.031</td>\n",
              "      <td>34.154</td>\n",
              "      <td>0.676</td>\n",
              "      <td>0.998</td>\n",
              "      <td>0.980</td>\n",
              "    </tr>\n",
              "  </tbody>\n",
              "</table>\n",
              "</div>"
            ],
            "text/plain": [
              "   lever_pos  ship_spd  Gasturbine_torq  ...  Fuelflow  GTcomp_decay  GTturb_comp\n",
              "0      9.300      27.0        72762.205  ...     1.790         0.973        0.978\n",
              "1      6.175      18.0        29760.552  ...     0.685         0.995        0.975\n",
              "2      3.144       9.0         8375.774  ...     0.247         0.980        0.978\n",
              "3      3.144       9.0         8377.589  ...     0.231         0.984        1.000\n",
              "4      6.175      18.0        29761.091  ...     0.676         0.998        0.980\n",
              "\n",
              "[5 rows x 18 columns]"
            ]
          },
          "metadata": {
            "tags": []
          },
          "execution_count": 2
        }
      ]
    },
    {
      "cell_type": "markdown",
      "metadata": {
        "id": "L6TO6q-JhmQ5"
      },
      "source": [
        "# Checking Missing Value"
      ]
    },
    {
      "cell_type": "code",
      "metadata": {
        "id": "TToktVTaRdlw",
        "colab": {
          "base_uri": "https://localhost:8080/"
        },
        "outputId": "74854c33-9e97-4b25-da3a-10a1510dc087"
      },
      "source": [
        "### CHECKING MISSING VALUE\n",
        "check_missing_value = df.isnull().sum() != 0\n",
        "if check_missing_value.all():\n",
        "  print(\"Dataset has some missing value\")\n",
        "else:\n",
        "  print(\"Dataset does not contain any missing value\")"
      ],
      "execution_count": null,
      "outputs": [
        {
          "output_type": "stream",
          "text": [
            "Dataset does not contain any missing value\n"
          ],
          "name": "stdout"
        }
      ]
    },
    {
      "cell_type": "markdown",
      "metadata": {
        "id": "2ECd31bAPJAl"
      },
      "source": [
        "# Remove unwanted Columns"
      ]
    },
    {
      "cell_type": "code",
      "metadata": {
        "id": "Kcmk_cWphWsh",
        "colab": {
          "base_uri": "https://localhost:8080/"
        },
        "outputId": "ed01f232-e5e0-4b22-c69f-40bd2b86dec9"
      },
      "source": [
        "print(df['GTcomp_intemp'].unique())\n",
        "print(df['GTcomp_inpress'].unique())\n",
        "print(\"BOTH THE FEATURES HAS SAME VALUES AND it NOT  CHANGE ANYTHING\")\n",
        "df = df.drop(['GTcomp_intemp','GTcomp_inpress'],axis=1)\n"
      ],
      "execution_count": 3,
      "outputs": [
        {
          "output_type": "stream",
          "text": [
            "[288.]\n",
            "[0.998]\n",
            "BOTH THE FEATURES HAS SAME VALUES AND it NOT  CHANGE ANYTHING\n"
          ],
          "name": "stdout"
        }
      ]
    },
    {
      "cell_type": "markdown",
      "metadata": {
        "id": "Z8LWkSRVh0yX"
      },
      "source": [
        "# Correlation "
      ]
    },
    {
      "cell_type": "code",
      "metadata": {
        "id": "hx2ZyLRef8EK",
        "colab": {
          "base_uri": "https://localhost:8080/",
          "height": 379
        },
        "outputId": "7e0066ef-0e7d-4acd-ca88-bf7490538c13"
      },
      "source": [
        "data = df.drop(df.columns[-2:],axis = 1)\n",
        "corr  = data.corr()\n",
        "print(corr.shape)\n",
        "sns.heatmap(corr, vmax=1.0, square=True)"
      ],
      "execution_count": 4,
      "outputs": [
        {
          "output_type": "stream",
          "text": [
            "(14, 14)\n"
          ],
          "name": "stdout"
        },
        {
          "output_type": "execute_result",
          "data": {
            "text/plain": [
              "<matplotlib.axes._subplots.AxesSubplot at 0x7fc2b8ed9b38>"
            ]
          },
          "metadata": {
            "tags": []
          },
          "execution_count": 4
        },
        {
          "output_type": "display_data",
          "data": {
            "image/png": "[encoded data removed]",
            "text/plain": [
              "<Figure size 432x288 with 2 Axes>"
            ]
          },
          "metadata": {
            "tags": [],
            "needs_background": "light"
          }
        }
      ]
    },
    {
      "cell_type": "markdown",
      "metadata": {
        "id": "Bg4nlfSb53va"
      },
      "source": [
        "Remove the highly correlated features\n"
      ]
    },
    {
      "cell_type": "code",
      "metadata": {
        "id": "i8JJuCkw3s4y",
        "colab": {
          "base_uri": "https://localhost:8080/",
          "height": 379
        },
        "outputId": "df08ba96-0265-4775-9a11-9790bedc687b"
      },
      "source": [
        "data = data.drop(['ship_spd','starboard_torq', 'HPturb_press'],axis = 1)\n",
        "corr  = data.corr()\n",
        "print(corr.shape)\n",
        "sns.heatmap(corr, vmax=1.0, square=True)"
      ],
      "execution_count": 5,
      "outputs": [
        {
          "output_type": "stream",
          "text": [
            "(11, 11)\n"
          ],
          "name": "stdout"
        },
        {
          "output_type": "execute_result",
          "data": {
            "text/plain": [
              "<matplotlib.axes._subplots.AxesSubplot at 0x7fc2b65a6518>"
            ]
          },
          "metadata": {
            "tags": []
          },
          "execution_count": 5
        },
        {
          "output_type": "display_data",
          "data": {
            "image/png": "[encoded data removed]",
            "text/plain": [
              "<Figure size 432x288 with 2 Axes>"
            ]
          },
          "metadata": {
            "tags": [],
            "needs_background": "light"
          }
        }
      ]
    },
    {
      "cell_type": "markdown",
      "metadata": {
        "id": "bKQ-bm4LPQTE"
      },
      "source": [
        "# Remove highly correlated Feature"
      ]
    },
    {
      "cell_type": "code",
      "metadata": {
        "id": "wHCLjTiekRD-",
        "colab": {
          "base_uri": "https://localhost:8080/"
        },
        "outputId": "bc9eb2d7-7d03-4ac9-e267-3a031069f45b"
      },
      "source": [
        "## CREATING DIFFERENT DATASET FROM THE DATAFRAME FOR TRAINING THE MODEL\n",
        "GT_TURBINE_Y = df['GTturb_comp']\n",
        "DATA_X = df[data.columns]\n",
        "print(\"GT_TURBINE_Y shape = \", GT_TURBINE_Y.shape)\n",
        "print(\"DATA shape = \",DATA_X.shape)"
      ],
      "execution_count": 6,
      "outputs": [
        {
          "output_type": "stream",
          "text": [
            "GT_TURBINE_Y shape =  (10000,)\n",
            "DATA shape =  (10000, 11)\n"
          ],
          "name": "stdout"
        }
      ]
    },
    {
      "cell_type": "markdown",
      "metadata": {
        "id": "yHanaipxreYv"
      },
      "source": [
        "# Metrics"
      ]
    },
    {
      "cell_type": "code",
      "metadata": {
        "id": "LJ0McuGbAdvP"
      },
      "source": [
        "def mape(y_pred, y_true):\n",
        "  \"\"\" Mean Absolute Percentage Error \"\"\"\n",
        "  return np.mean(np.abs((y_true - y_pred) / y_true)) * 100\n",
        "def rmse(y_pred, y_true):\n",
        "  \"\"\" Root Mean Squared Error \"\"\"\n",
        "  return np.sqrt(((y_pred - y_true) ** 2).mean())"
      ],
      "execution_count": 7,
      "outputs": []
    },
    {
      "cell_type": "markdown",
      "metadata": {
        "id": "AAOk9w4wPeI1"
      },
      "source": [
        "# Split Train Test data"
      ]
    },
    {
      "cell_type": "code",
      "metadata": {
        "id": "nqhTe8iRpbJF",
        "colab": {
          "base_uri": "https://localhost:8080/"
        },
        "outputId": "10c5b77a-6c61-4baa-9b3a-d0ac0cdf85f5"
      },
      "source": [
        "## SPLITING THE DATA IN TRAIN AND TEST FOR VALIDATION OF OUR MODEL\n",
        "X_train, X_test, y_train, y_test = train_test_split(DATA_X, GT_TURBINE_Y, test_size=0.20, random_state=42)\n",
        "print(\"X_train shape = \",X_train.shape)\n",
        "print(\"Y_train shape = \",y_train.shape)\n",
        "print(\"X_test shape = \",X_test.shape)\n",
        "print(\"Y_test shape = \",y_test.shape)"
      ],
      "execution_count": 8,
      "outputs": [
        {
          "output_type": "stream",
          "text": [
            "X_train shape =  (8000, 11)\n",
            "Y_train shape =  (8000,)\n",
            "X_test shape =  (2000, 11)\n",
            "Y_test shape =  (2000,)\n"
          ],
          "name": "stdout"
        }
      ]
    },
    {
      "cell_type": "markdown",
      "metadata": {
        "id": "xtZxgZWGPh8V"
      },
      "source": [
        "# Training Model"
      ]
    },
    {
      "cell_type": "markdown",
      "metadata": {
        "id": "2m_bt_KoLj4T"
      },
      "source": [
        "## LINEAR REGRESSION"
      ]
    },
    {
      "cell_type": "code",
      "metadata": {
        "id": "SLK2wa6_Loig",
        "colab": {
          "base_uri": "https://localhost:8080/"
        },
        "outputId": "ae1ceea7-17b1-4bb7-ed6f-46f9b58feaf3"
      },
      "source": [
        "from sklearn.linear_model import LinearRegression\n",
        "reg = LinearRegression()\n",
        "reg.fit(X_train,y_train)\n",
        "train_predY = reg.predict(X_train)\n",
        "test_predY = reg.predict(X_test)\n",
        "print(\"TRAIN ROOT MEAN SQUARED ERROR = \",rmse(np.array(train_predY),np.array(y_train)))\n",
        "print(\"TEST ROOT MEAN SQUARED ERROR= \",rmse(np.array(test_predY),np.array(y_test)))\n",
        "print(\"TRAIN MEDIAN ABSOLUTE PERCENTAGE ERROR = \",mape(np.array(train_predY),np.array(y_train)))\n",
        "print(\"TEST MEDIAN ABSOLUTE PERCENTAGE ERROR= \",mape(np.array(test_predY),np.array(y_test)))"
      ],
      "execution_count": null,
      "outputs": [
        {
          "output_type": "stream",
          "text": [
            "TRAIN ROOT MEAN SQUARED ERROR =  0.0023030871823368003\n",
            "TEST ROOT MEAN SQUARED ERROR=  0.0023053961020329024\n",
            "TRAIN MEDIAN ABSOLUTE PERCENTAGE ERROR =  0.1726634759353349\n",
            "TEST MEDIAN ABSOLUTE PERCENTAGE ERROR=  0.17586599028108413\n"
          ],
          "name": "stdout"
        }
      ]
    },
    {
      "cell_type": "markdown",
      "metadata": {
        "id": "21trCHQEPl-m"
      },
      "source": [
        "## Ridge Regression "
      ]
    },
    {
      "cell_type": "code",
      "metadata": {
        "id": "NSkaRjqd0tKJ",
        "colab": {
          "base_uri": "https://localhost:8080/"
        },
        "outputId": "300c66a3-2971-475f-c456-5336b1eeb7e2"
      },
      "source": [
        "from sklearn.linear_model import Ridge\n",
        "from sklearn.linear_model import Lasso\n",
        "# Hyperparameter Tuning\n",
        "params  ={\"alpha\":[0.001,0.01,0.05,0.5,0.1,1,0.00001,0.003,0.005,0.00005]}\n",
        "reg = Ridge()\n",
        "GridCV = GridSearchCV(reg,params,cv= 3)\n",
        "GridCV.fit(X_train,y_train)\n",
        "print(GridCV.best_params_)"
      ],
      "execution_count": null,
      "outputs": [
        {
          "output_type": "stream",
          "text": [
            "{'alpha': 1e-05}\n"
          ],
          "name": "stdout"
        }
      ]
    },
    {
      "cell_type": "code",
      "metadata": {
        "id": "7jrOjOhM0tPy",
        "colab": {
          "base_uri": "https://localhost:8080/"
        },
        "outputId": "37c28058-524b-4a84-c6ec-8cde302a38b9"
      },
      "source": [
        "# Trainig Model\n",
        "reg = Ridge(alpha = 1e-05)\n",
        "reg.fit(X_train,y_train)\n",
        "train_predY = reg.predict(X_train)\n",
        "test_predY = reg.predict(X_test)\n",
        "print(\"TRAIN ROOT MEAN SQUARED ERROR = \",rmse(np.array(train_predY),np.array(y_train)))\n",
        "print(\"TEST ROOT MEAN SQUARED ERROR= \",rmse(np.array(test_predY),np.array(y_test)))\n",
        "print(\"TRAIN MEDIAN ABSOLUTE PERCENTAGE ERROR = \",mape(np.array(train_predY),np.array(y_train)))\n",
        "print(\"TEST MEDIAN ABSOLUTE PERCENTAGE ERROR= \",mape(np.array(test_predY),np.array(y_test)))"
      ],
      "execution_count": null,
      "outputs": [
        {
          "output_type": "stream",
          "text": [
            "TRAIN ROOT MEAN SQUARED ERROR =  0.002303097844713823\n",
            "TEST ROOT MEAN SQUARED ERROR=  0.0023052113669390934\n",
            "TRAIN MEDIAN ABSOLUTE PERCENTAGE ERROR =  0.17263437732798417\n",
            "TEST MEDIAN ABSOLUTE PERCENTAGE ERROR=  0.17579703516725118\n"
          ],
          "name": "stdout"
        }
      ]
    },
    {
      "cell_type": "markdown",
      "metadata": {
        "id": "ZLcKAKfXPu82"
      },
      "source": [
        "## Lasso Regression"
      ]
    },
    {
      "cell_type": "code",
      "metadata": {
        "id": "JiN7TcEs03Js",
        "colab": {
          "base_uri": "https://localhost:8080/"
        },
        "outputId": "b0ae09ef-564e-4a4d-e97a-7e644d6a71a1"
      },
      "source": [
        "# Hyperparameter Tuning\n",
        "params  ={\"alpha\":[0.001,0.01,0.05,0.5,0.1,1,0.00001,0.003,0.005,0.00005]}\n",
        "reg = Lasso()\n",
        "GridCV = GridSearchCV(reg,params,cv= 3)\n",
        "GridCV.fit(X_train,y_train)\n",
        "print(GridCV.best_params_)"
      ],
      "execution_count": null,
      "outputs": [
        {
          "output_type": "stream",
          "text": [
            "{'alpha': 5e-05}\n"
          ],
          "name": "stdout"
        }
      ]
    },
    {
      "cell_type": "code",
      "metadata": {
        "id": "2HNarQlU03PO",
        "colab": {
          "base_uri": "https://localhost:8080/"
        },
        "outputId": "8f541e8a-d7dc-485b-8ea7-e041396a122f"
      },
      "source": [
        "# Training Model\n",
        "reg = Lasso(alpha = 5e-05)\n",
        "reg.fit(X_train,y_train)\n",
        "train_predY = reg.predict(X_train)\n",
        "test_predY = reg.predict(X_test)\n",
        "print(\"TRAIN ROOT MEAN SQUARED ERROR = \",rmse(np.array(train_predY),np.array(y_train)))\n",
        "print(\"TEST ROOT MEAN SQUARED ERROR= \",rmse(np.array(test_predY),np.array(y_test)))\n",
        "print(\"TRAIN MEDIAN ABSOLUTE PERCENTAGE ERROR = \",mape(np.array(train_predY),np.array(y_train)))\n",
        "print(\"TEST MEDIAN ABSOLUTE PERCENTAGE ERROR= \",mape(np.array(test_predY),np.array(y_test)))"
      ],
      "execution_count": null,
      "outputs": [
        {
          "output_type": "stream",
          "text": [
            "TRAIN ROOT MEAN SQUARED ERROR =  0.006025080433148156\n",
            "TEST ROOT MEAN SQUARED ERROR=  0.006030383169368877\n",
            "TRAIN MEDIAN ABSOLUTE PERCENTAGE ERROR =  0.5204553021369809\n",
            "TEST MEDIAN ABSOLUTE PERCENTAGE ERROR=  0.5216884971378964\n"
          ],
          "name": "stdout"
        }
      ]
    },
    {
      "cell_type": "markdown",
      "metadata": {
        "id": "7ZOOaqM_HKdo"
      },
      "source": [
        "## RandomForest Model\n"
      ]
    },
    {
      "cell_type": "code",
      "metadata": {
        "id": "B6Lc9gqMrL_y"
      },
      "source": [
        "## Hyperparameter Tuning\n",
        "# Number of trees in random forest\n",
        "n_estimators = [int(x) for x in np.linspace(start = 20, stop = 1000, num = 20)]\n",
        "# Number of features to consider at every split\n",
        "max_features = ['auto', 'sqrt']\n",
        "# Maximum number of levels in tree\n",
        "max_depth = [int(x) for x in np.linspace(5, 200, num = 20)]\n",
        "max_depth.append(None)\n",
        "# Minimum number of samples required to split a node\n",
        "min_samples_split = [int(x) for x in np.linspace(start = 1, stop = 20, num = 20)]\n",
        "# Minimum number of samples required at each leaf node\n",
        "min_samples_leaf = [int(x) for x in np.linspace(start = 1, stop = 20, num = 20)]\n",
        "# Method of selecting samples for training each tree\n",
        "bootstrap = [True, False]\n",
        "# Create the random grid\n",
        "# Create the random grid\n",
        "random_grid = {'n_estimators': n_estimators,\n",
        "               'max_features': max_features,\n",
        "               'max_depth': max_depth,\n",
        "               'min_samples_split': min_samples_split,\n",
        "               'min_samples_leaf': min_samples_leaf,\n",
        "               'bootstrap': bootstrap}\n",
        "rf = RandomForestRegressor()\n",
        "rf_random = RandomizedSearchCV(estimator = rf, param_distributions = random_grid, n_iter = 100, cv = 5, verbose=2, random_state=42, n_jobs = -1)\n",
        "rf_random.fit(X_train,y_train)"
      ],
      "execution_count": null,
      "outputs": []
    },
    {
      "cell_type": "code",
      "metadata": {
        "id": "gCinx4haskwD",
        "colab": {
          "base_uri": "https://localhost:8080/"
        },
        "outputId": "c5855e0d-297d-4461-b3d2-66595f960a14"
      },
      "source": [
        "print(rf_random.best_params_)"
      ],
      "execution_count": null,
      "outputs": [
        {
          "output_type": "stream",
          "text": [
            "{'n_estimators': 432, 'min_samples_split': 6, 'min_samples_leaf': 2, 'max_features': 'auto', 'max_depth': 169, 'bootstrap': True}\n"
          ],
          "name": "stdout"
        }
      ]
    },
    {
      "cell_type": "code",
      "metadata": {
        "id": "A1iCRu0-tMTq",
        "colab": {
          "base_uri": "https://localhost:8080/"
        },
        "outputId": "6d134be9-7877-4bd7-809f-78e868917067"
      },
      "source": [
        "# Training Model\n",
        "rf = RandomForestRegressor(n_estimators = 432, min_samples_split= 6, min_samples_leaf=2, max_features='auto', max_depth= 169, bootstrap=True)\n",
        "rf.fit(X_train,y_train)\n",
        "train_predY = rf.predict(X_train)\n",
        "test_predY = rf.predict(X_test)\n",
        "print(\"TRAIN ROOT MEAN SQUARED ERROR = \",rmse(np.array(train_predY),np.array(y_train)))\n",
        "print(\"TEST ROOT MEAN SQUARED ERROR= \",rmse(np.array(test_predY),np.array(y_test)))\n",
        "print(\"TRAIN MEAN ABSOLUTE PERCENTAGE ERROR = \",mape(np.array(train_predY),np.array(y_train)))\n",
        "print(\"TEST MEAN ABSOLUTE PERCENTAGE ERROR= \",mape(np.array(test_predY),np.array(y_test)))"
      ],
      "execution_count": null,
      "outputs": [
        {
          "output_type": "stream",
          "text": [
            "TRAIN ROOT MEAN SQUARED ERROR =  0.00042318177914886745\n",
            "TEST ROOT MEAN SQUARED ERROR=  0.0008265372359557396\n",
            "TRAIN MEAN ABSOLUTE PERCENTAGE ERROR =  0.020589199961288492\n",
            "TEST MEAN ABSOLUTE PERCENTAGE ERROR=  0.04120660821786482\n"
          ],
          "name": "stdout"
        }
      ]
    },
    {
      "cell_type": "markdown",
      "metadata": {
        "id": "FBS_xcMbQMFY"
      },
      "source": [
        "## Gradient Boosting Decision Tree"
      ]
    },
    {
      "cell_type": "code",
      "metadata": {
        "id": "pZ92ANC8asTP"
      },
      "source": [
        "from sklearn.preprocessing import Normalizer\n",
        "norm = Normalizer().fit(X_train)\n",
        "X_train = norm.transform(X_train)\n",
        "X_test = norm.transform(X_test)"
      ],
      "execution_count": 14,
      "outputs": []
    },
    {
      "cell_type": "code",
      "metadata": {
        "id": "wSn88fzoCG1U",
        "colab": {
          "base_uri": "https://localhost:8080/"
        },
        "outputId": "5398e588-82c3-4645-e5c3-ad6d9ab2c3f5"
      },
      "source": [
        "\n",
        "gridParams = {\n",
        "    'learning_rate': [0.1, 0.05, 0.01, 0.005,0.001,0.02,0.5],\n",
        "    'n_estimators': [int(x) for x in np.linspace(start = 50,stop = 1000,num = 12)],\n",
        "    'num_leaves': [int(x) for x in np.linspace(start = 20, stop = 600, num = 10)],\n",
        "    'boosting_type' : ['gbdt', 'dart','goss'],\n",
        "    'objective' : ['regression'],\n",
        "    'max_depth': [3, 4, 5, 6, 8, 12, 16, -1],\n",
        "    'random_state' : [501], \n",
        "    'colsample_bytree' : [0.5,0.7,0.9,0.2,0.1],\n",
        "    'subsample' : [0.5,0.7,0.6,0.9,0.2,0.01],\n",
        "    'min_split_gain' : [0.01,0.5,0.001,0.0,0.1,0.0001],\n",
        "    'min_child_weight' : [0.001,0.00001,0.1,0.0001,0.002,0.005,0.0005],\n",
        "    'min_child_samples': [20,5,6,7,8,9,10,12,25,15,18],\n",
        "    'min_data_in_leaf': [10, 20, 40, 60, 100],\n",
        "    'reg_alpha':[0,0.1,0.002,0.005,0.0001,0.0005,0.00006]\n",
        "    }\n",
        "reg  = lgb.LGBMRegressor(eval_metric = 'rmse')\n",
        "randomSearchCV = RandomizedSearchCV(reg,gridParams,n_iter = 1000,n_jobs=-1,cv=3)\n",
        "randomSearchCV.fit(X_train,y_train)\n",
        "print(randomSearchCV.best_params_)\n"
      ],
      "execution_count": 15,
      "outputs": [
        {
          "output_type": "stream",
          "text": [
            "{'subsample': 0.9, 'reg_alpha': 6e-05, 'random_state': 501, 'objective': 'regression', 'num_leaves': 406, 'n_estimators': 1000, 'min_split_gain': 0.0, 'min_data_in_leaf': 20, 'min_child_weight': 0.005, 'min_child_samples': 9, 'max_depth': 4, 'learning_rate': 0.5, 'colsample_bytree': 0.5, 'boosting_type': 'dart'}\n"
          ],
          "name": "stdout"
        }
      ]
    },
    {
      "cell_type": "code",
      "metadata": {
        "colab": {
          "base_uri": "https://localhost:8080/"
        },
        "id": "zAl1i-AS7BrL",
        "outputId": "0624c8da-e5a2-44b0-f87f-9596f2c4afee"
      },
      "source": [
        "import lightgbm as lgb\n",
        "reg  = lgb.LGBMRegressor(subsample = 0.9,reg_alpha =  6e-05,random_state= 501, objective= 'regression', num_leaves= 406 , n_estimators = 1000 ,min_split_gain=0.0, min_data_in_leaf=60,min_child_weight=0.005,min_child_samples= 9,max_depth= 4, learning_rate= 0.5, colsample_bytree= 0.5, boosting_type= 'dart',eval_metrics = 'rmse')\n",
        "reg.fit(X_train,y_train)\n",
        "train_predY = reg.predict(X_train)\n",
        "test_predY = reg.predict(X_test)\n",
        "print(\"TRAIN ROOT MEAN SQUARED ERROR = \",rmse(np.array(train_predY),np.array(y_train)))\n",
        "print(\"TEST ROOT MEAN SQUARED ERROR= \",rmse(np.array(test_predY),np.array(y_test)))\n",
        "print(\"TRAIN MEDIAN ABSOLUTE PERCENTAGE ERROR = \",mape(np.array(train_predY),np.array(y_train)))\n",
        "print(\"TEST MEDIAN ABSOLUTE PERCENTAGE ERROR= \",mape(np.array(test_predY),np.array(y_test)))"
      ],
      "execution_count": 16,
      "outputs": [
        {
          "output_type": "stream",
          "text": [
            "TRAIN ROOT MEAN SQUARED ERROR =  0.0006411600754741942\n",
            "TEST ROOT MEAN SQUARED ERROR=  0.0008837268293431875\n",
            "TRAIN MEDIAN ABSOLUTE PERCENTAGE ERROR =  0.0508542629940657\n",
            "TEST MEDIAN ABSOLUTE PERCENTAGE ERROR=  0.06108795947849375\n"
          ],
          "name": "stdout"
        }
      ]
    },
    {
      "cell_type": "code",
      "metadata": {
        "colab": {
          "base_uri": "https://localhost:8080/"
        },
        "id": "PRxKgYE6ZdEh",
        "outputId": "36f13e50-5028-4b44-c9ae-c7374f60d1d4"
      },
      "source": [
        "from joblib import dump, load\n",
        "dump(reg, 'TaskA_bestmodel.joblib') "
      ],
      "execution_count": 17,
      "outputs": [
        {
          "output_type": "execute_result",
          "data": {
            "text/plain": [
              "['TaskA_bestmodel.joblib']"
            ]
          },
          "metadata": {
            "tags": []
          },
          "execution_count": 17
        }
      ]
    },
    {
      "cell_type": "markdown",
      "metadata": {
        "id": "JaZwSvrkQIM6"
      },
      "source": [
        "# Feature Importance"
      ]
    },
    {
      "cell_type": "code",
      "metadata": {
        "id": "trlf5RDMsn88",
        "colab": {
          "base_uri": "https://localhost:8080/",
          "height": 500
        },
        "outputId": "f674c00c-c7e8-44b5-f890-0769ba0f72c3"
      },
      "source": [
        "## Plot the Features Importance \n",
        "features = X_train.columns\n",
        "importances = reg.feature_importances_\n",
        "indices = np.argsort(importances)\n",
        "plt.figure(figsize=(10,7))\n",
        "plt.title('Feature Importances')\n",
        "plt.barh(range(len(indices)), importances[indices], color='b', align='center')\n",
        "plt.yticks(range(len(indices)), [features[i] for i in indices])\n",
        "plt.xlabel('Relative Importance')\n",
        "plt.show()"
      ],
      "execution_count": null,
      "outputs": [
        {
          "output_type": "display_data",
          "data": {
            "image/png": "[encoded data removed]",
            "text/plain": [
              "<Figure size 720x504 with 1 Axes>"
            ]
          },
          "metadata": {
            "tags": []
          }
        }
      ]
    },
    {
      "cell_type": "markdown",
      "metadata": {
        "id": "4ISg00Re1Jz4"
      },
      "source": [
        "# DEEP LEARNING\n"
      ]
    },
    {
      "cell_type": "markdown",
      "metadata": {
        "id": "GPqOgi3VRyF6"
      },
      "source": [
        "## Import Library"
      ]
    },
    {
      "cell_type": "code",
      "metadata": {
        "id": "SnG9wpsj1LgJ"
      },
      "source": [
        "import tensorflow as tf\n",
        "\n",
        "from tensorflow import keras\n",
        "from tensorflow.keras import layers\n",
        "from tensorflow.keras.layers.experimental import preprocessing\n",
        "import  tensorflow.keras.backend as K\n",
        "## Defining Scheduler\n",
        "lr_scheduler = tf.keras.callbacks.ReduceLROnPlateau(\n",
        "    monitor='val_loss', factor=0.001, patience=5, verbose=1, mode='auto')"
      ],
      "execution_count": null,
      "outputs": []
    },
    {
      "cell_type": "markdown",
      "metadata": {
        "id": "qU0zP-arSC67"
      },
      "source": [
        "## Metrics"
      ]
    },
    {
      "cell_type": "code",
      "metadata": {
        "id": "8s3jjC3ISFIc"
      },
      "source": [
        "def mape(y_true,y_pred):\n",
        "  \"\"\" Mean Absolute Percentage Error\"\"\"\n",
        "  return K.mean(K.abs((y_true - y_pred) / y_true)) * 100\n",
        "def rmse( y_true,y_pred):\n",
        "  \"\"\" Root Mean Squared Error \"\"\"\n",
        "  return K.mean(K.sqrt((( y_true - y_pred ) ** 2)))"
      ],
      "execution_count": null,
      "outputs": []
    },
    {
      "cell_type": "markdown",
      "metadata": {
        "id": "YSqb6DV0SKj5"
      },
      "source": [
        "## Define Model Architecture"
      ]
    },
    {
      "cell_type": "markdown",
      "metadata": {
        "id": "-Dg-vEFZR1XJ"
      },
      "source": [
        "### Intialize Normalize Layer"
      ]
    },
    {
      "cell_type": "code",
      "metadata": {
        "id": "daoPgACvR2sO"
      },
      "source": [
        "## Normalize Layer\n",
        "norm = preprocessing.Normalization(input_shape=[11,])\n",
        "\n",
        "norm.adapt(np.array(X_train))\n",
        "## Define weight Intializer for Relu activation \n",
        "initializer = tf.keras.initializers.HeUniform()"
      ],
      "execution_count": null,
      "outputs": []
    },
    {
      "cell_type": "markdown",
      "metadata": {
        "id": "7FQ3MAcpSQCS"
      },
      "source": [
        "### Architecture"
      ]
    },
    {
      "cell_type": "code",
      "metadata": {
        "id": "6Snje_Cz1QjC",
        "colab": {
          "base_uri": "https://localhost:8080/"
        },
        "outputId": "656cc308-3994-4bee-8257-4f2a86b1db75"
      },
      "source": [
        "## Define the Architecture\n",
        "model = tf.keras.Sequential()\n",
        "model.add(norm)\n",
        "model.add(layers.Dense(512,kernel_initializer=initializer,activation = 'relu'))\n",
        "model.add(layers.Dense(32,kernel_initializer=initializer,activation = 'relu'))\n",
        "model.add(layers.Dense(256,kernel_initializer=initializer,activation = 'relu'))\n",
        "\n",
        "\n",
        "model.add(layers.Dense(128,kernel_initializer=initializer,activation = 'relu'))\n",
        "model.add(layers.Dense(64,kernel_initializer=initializer,activation = 'relu'))\n",
        "model.add(layers.Dense(32,kernel_initializer=initializer,activation = 'relu'))\n",
        "model.add(layers.Dense(32,kernel_initializer=initializer,activation = 'relu'))\n",
        "\n",
        "\n",
        "model.add(layers.Dense(12,kernel_initializer=initializer,activation='relu'))\n",
        "model.add(layers.Dense(1,kernel_initializer='normal'))\n",
        "model.summary()"
      ],
      "execution_count": null,
      "outputs": [
        {
          "output_type": "stream",
          "text": [
            "Model: \"sequential_14\"\n",
            "_________________________________________________________________\n",
            "Layer (type)                 Output Shape              Param #   \n",
            "=================================================================\n",
            "normalization_2 (Normalizati (None, 11)                23        \n",
            "_________________________________________________________________\n",
            "dense_82 (Dense)             (None, 512)               6144      \n",
            "_________________________________________________________________\n",
            "dense_83 (Dense)             (None, 32)                16416     \n",
            "_________________________________________________________________\n",
            "dense_84 (Dense)             (None, 256)               8448      \n",
            "_________________________________________________________________\n",
            "dense_85 (Dense)             (None, 128)               32896     \n",
            "_________________________________________________________________\n",
            "dense_86 (Dense)             (None, 64)                8256      \n",
            "_________________________________________________________________\n",
            "dense_87 (Dense)             (None, 32)                2080      \n",
            "_________________________________________________________________\n",
            "dense_88 (Dense)             (None, 32)                1056      \n",
            "_________________________________________________________________\n",
            "dense_89 (Dense)             (None, 12)                396       \n",
            "_________________________________________________________________\n",
            "dense_90 (Dense)             (None, 1)                 13        \n",
            "=================================================================\n",
            "Total params: 75,728\n",
            "Trainable params: 75,705\n",
            "Non-trainable params: 23\n",
            "_________________________________________________________________\n"
          ],
          "name": "stdout"
        }
      ]
    },
    {
      "cell_type": "markdown",
      "metadata": {
        "id": "QV0i91-uTnya"
      },
      "source": [
        "## Training "
      ]
    },
    {
      "cell_type": "code",
      "metadata": {
        "id": "JMEptFC51VNr",
        "colab": {
          "base_uri": "https://localhost:8080/"
        },
        "outputId": "44dcb185-4b88-4197-cc27-ebc6c3057aed"
      },
      "source": [
        "model.compile(optimizer=tf.optimizers.Adam(learning_rate=0.01),loss='mean_squared_error')\n",
        "histroy = model.fit(X_train,y_train,batch_size = 128,epochs=20,validation_data=(X_test,y_test),callbacks=lr_scheduler)"
      ],
      "execution_count": null,
      "outputs": [
        {
          "output_type": "stream",
          "text": [
            "Epoch 1/20\n",
            "63/63 [==============================] - 0s 7ms/step - loss: 0.0667 - val_loss: 1.9183e-04\n",
            "Epoch 2/20\n",
            "63/63 [==============================] - 0s 5ms/step - loss: 1.4807e-04 - val_loss: 6.4937e-05\n",
            "Epoch 3/20\n",
            "63/63 [==============================] - 0s 5ms/step - loss: 5.6916e-05 - val_loss: 5.1609e-05\n",
            "Epoch 4/20\n",
            "63/63 [==============================] - 0s 5ms/step - loss: 4.6238e-05 - val_loss: 4.6342e-05\n",
            "Epoch 5/20\n",
            "63/63 [==============================] - 0s 5ms/step - loss: 3.8631e-05 - val_loss: 3.9996e-05\n",
            "Epoch 6/20\n",
            "63/63 [==============================] - 0s 5ms/step - loss: 3.2612e-05 - val_loss: 3.0917e-05\n",
            "Epoch 7/20\n",
            "58/63 [==========================>...] - ETA: 0s - loss: 2.7856e-05\n",
            "Epoch 00007: ReduceLROnPlateau reducing learning rate to 9.999999776482582e-06.\n",
            "63/63 [==============================] - 0s 5ms/step - loss: 2.7914e-05 - val_loss: 2.5025e-05\n",
            "Epoch 8/20\n",
            "63/63 [==============================] - 0s 5ms/step - loss: 2.4298e-05 - val_loss: 2.4929e-05\n",
            "Epoch 9/20\n",
            "63/63 [==============================] - 0s 5ms/step - loss: 2.4204e-05 - val_loss: 2.4852e-05\n",
            "Epoch 10/20\n",
            "63/63 [==============================] - 0s 5ms/step - loss: 2.4154e-05 - val_loss: 2.4812e-05\n",
            "Epoch 11/20\n",
            "63/63 [==============================] - 0s 5ms/step - loss: 2.4123e-05 - val_loss: 2.4784e-05\n",
            "Epoch 12/20\n",
            "57/63 [==========================>...] - ETA: 0s - loss: 2.4207e-05\n",
            "Epoch 00012: ReduceLROnPlateau reducing learning rate to 9.999999747378752e-09.\n",
            "63/63 [==============================] - 0s 5ms/step - loss: 2.4097e-05 - val_loss: 2.4759e-05\n",
            "Epoch 13/20\n",
            "63/63 [==============================] - 0s 5ms/step - loss: 2.4083e-05 - val_loss: 2.4759e-05\n",
            "Epoch 14/20\n",
            "63/63 [==============================] - 0s 5ms/step - loss: 2.4083e-05 - val_loss: 2.4759e-05\n",
            "Epoch 15/20\n",
            "63/63 [==============================] - 0s 5ms/step - loss: 2.4083e-05 - val_loss: 2.4759e-05\n",
            "Epoch 16/20\n",
            "63/63 [==============================] - 0s 5ms/step - loss: 2.4083e-05 - val_loss: 2.4759e-05\n",
            "Epoch 17/20\n",
            "58/63 [==========================>...] - ETA: 0s - loss: 2.3980e-05\n",
            "Epoch 00017: ReduceLROnPlateau reducing learning rate to 9.99999993922529e-12.\n",
            "63/63 [==============================] - 0s 5ms/step - loss: 2.4083e-05 - val_loss: 2.4759e-05\n",
            "Epoch 18/20\n",
            "63/63 [==============================] - 0s 5ms/step - loss: 2.4083e-05 - val_loss: 2.4759e-05\n",
            "Epoch 19/20\n",
            "63/63 [==============================] - 0s 5ms/step - loss: 2.4083e-05 - val_loss: 2.4759e-05\n",
            "Epoch 20/20\n",
            "63/63 [==============================] - 0s 5ms/step - loss: 2.4083e-05 - val_loss: 2.4759e-05\n"
          ],
          "name": "stdout"
        }
      ]
    },
    {
      "cell_type": "markdown",
      "metadata": {
        "id": "UXzoAyWGTiTY"
      },
      "source": [
        "### Performace of Model"
      ]
    },
    {
      "cell_type": "code",
      "metadata": {
        "colab": {
          "base_uri": "https://localhost:8080/"
        },
        "id": "V4Dunh_PSqOC",
        "outputId": "3834c662-e080-4d08-ca66-6fd240151d98"
      },
      "source": [
        "train_predY = model.predict(X_train)\n",
        "test_predY = model.predict(X_test)\n",
        "y_train  = np.array(y_train).reshape(-1,1)\n",
        "y_test = np.array(y_test).reshape(-1,1)\n",
        "print(\"TRAIN ROOT MEAN SQUARED ERROR = \",rmse(train_predY,y_train))\n",
        "print(\"TEST ROOT MEAN SQUARED ERROR= \",rmse(test_predY,y_test))\n",
        "print(\"TRAIN MEAN ABSOLUTE PERCENTAGE ERROR = \",mape(train_predY,y_train))\n",
        "print(\"TEST MEAN ABSOLUTE PERCENTAGE ERROR= \",mape(test_predY,y_test))"
      ],
      "execution_count": null,
      "outputs": [
        {
          "output_type": "stream",
          "text": [
            "TRAIN ROOT MEAN SQUARED ERROR =  0.004907452732605113\n",
            "TEST ROOT MEAN SQUARED ERROR=  0.004975823380864176\n",
            "TRAIN MEAN ABSOLUTE PERCENTAGE ERROR =  0.3417458441770428\n",
            "TEST MEAN ABSOLUTE PERCENTAGE ERROR=  0.3480676754047298\n"
          ],
          "name": "stdout"
        }
      ]
    },
    {
      "cell_type": "markdown",
      "metadata": {
        "id": "lIewRcnppVqi"
      },
      "source": [
        "# Summary"
      ]
    },
    {
      "cell_type": "code",
      "metadata": {
        "id": "WV9uk46kVaiW",
        "colab": {
          "base_uri": "https://localhost:8080/"
        },
        "outputId": "a57982e0-7e27-413d-c540-52dd87692fac"
      },
      "source": [
        "from prettytable import PrettyTable\n",
        "    \n",
        "x = PrettyTable()\n",
        "\n",
        "x.field_names = [\"Model\", \"Train_rmse\", \"Test_rmse\", \"Train_mape\",\"Test_mape\"]\n",
        "\n",
        "x.add_row([\"Linear Regression\", 0.002,0.002,0.17,0.17])\n",
        "x.add_row([\"Ridge Regression\",0.002,0.002,0.17,0.17])\n",
        "x.add_row([\"Lasso Regression\", 0.006,0.006,0.52,0.52])\n",
        "x.add_row([\"RandomForest Regression\",0.0004,0.0008,0.02,0.04])\n",
        "x.add_row([\"GBDT Regression\",0.0003,0.0006,0.02,0.04])\n",
        "x.add_row([\"Deep Learning Model\", 0.004,0.004,0.321,0.348])\n",
        "print(x)"
      ],
      "execution_count": null,
      "outputs": [
        {
          "output_type": "stream",
          "text": [
            "+-------------------------+------------+-----------+------------+-----------+\n",
            "|          Model          | Train_rmse | Test_rmse | Train_mape | Test_mape |\n",
            "+-------------------------+------------+-----------+------------+-----------+\n",
            "|    Linear Regression    |   0.002    |   0.002   |    0.17    |    0.17   |\n",
            "|     Ridge Regression    |   0.002    |   0.002   |    0.17    |    0.17   |\n",
            "|     Lasso Regression    |   0.006    |   0.006   |    0.52    |    0.52   |\n",
            "| RandomForest Regression |   0.0004   |   0.0008  |    0.02    |    0.04   |\n",
            "|     GBDT Regression     |   0.0003   |   0.0006  |    0.02    |    0.04   |\n",
            "|   Deep Learning Model   |   0.004    |   0.004   |   0.321    |   0.348   |\n",
            "+-------------------------+------------+-----------+------------+-----------+\n"
          ],
          "name": "stdout"
        }
      ]
    },
    {
      "cell_type": "markdown",
      "metadata": {
        "id": "97inYdwPsj4V"
      },
      "source": [
        "Clearly, Grandient Boosting Decision Tree  perform best."
      ]
    },
    {
      "cell_type": "markdown",
      "metadata": {
        "id": "y7rVZZMUshHJ"
      },
      "source": [
        "*Sorry For Spelling Mistake if you found any*"
      ]
    }
  ]
}