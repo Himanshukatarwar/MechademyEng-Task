{
  "nbformat": 4,
  "nbformat_minor": 0,
  "metadata": {
    "colab": {
      "name": "TASK 2B .ipynb",
      "provenance": [],
      "collapsed_sections": [],
      "toc_visible": true
    },
    "kernelspec": {
      "name": "python3",
      "display_name": "Python 3"
    }
  },
  "cells": [
    {
      "cell_type": "markdown",
      "metadata": {
        "id": "JUsSa5UvL0RO"
      },
      "source": [
        "# Introduction "
      ]
    },
    {
      "cell_type": "markdown",
      "metadata": {
        "id": "YqmNsUiNL82y"
      },
      "source": [
        "<h5>Task: Regression Task<br>\n",
        "<h5>Metrics:- \n",
        "\n",
        "1.   Root Mean square error\n",
        "2.   Mean absolute percentage error\n",
        "\n",
        "\n",
        "Predict the GT_compressor_decay_coefficient \n",
        "\n"
      ]
    },
    {
      "cell_type": "markdown",
      "metadata": {
        "id": "5FadNXUiM_eF"
      },
      "source": [
        "# Step to Follow <br>\n",
        "\n",
        "\n",
        "1.   Clean the data\n",
        "2.   Remove unwanted data/Feature\n",
        "3.   Remove most correlated Feature\n",
        "4.   Train Model \n",
        "5. Summary\n",
        "\n"
      ]
    },
    {
      "cell_type": "markdown",
      "metadata": {
        "id": "cSuGuHPp70HF"
      },
      "source": [
        "# Importing Library"
      ]
    },
    {
      "cell_type": "code",
      "metadata": {
        "id": "PVM3iG3Zd5Bw"
      },
      "source": [
        "import pandas as pd\n",
        "from sklearn.model_selection import train_test_split\n",
        "import warnings\n",
        "warnings.filterwarnings(\"ignore\")\n",
        "from sklearn.model_selection import GridSearchCV\n",
        "from sklearn.linear_model import LogisticRegression\n",
        "from sklearn.ensemble import RandomForestRegressor\n",
        "from sklearn.model_selection import RandomizedSearchCV\n",
        "import numpy as np\n",
        "import matplotlib.pyplot as plt\n",
        "from sklearn.linear_model import Ridge\n",
        "from sklearn.linear_model import Lasso\n",
        "\n",
        "import seaborn as sns\n",
        "import matplotlib.style as style\n",
        "style.use('fivethirtyeight')\n"
      ],
      "execution_count": null,
      "outputs": []
    },
    {
      "cell_type": "markdown",
      "metadata": {
        "id": "OBcZnjh37-xs"
      },
      "source": [
        "# Reading Dataset"
      ]
    },
    {
      "cell_type": "code",
      "metadata": {
        "id": "PxF0w-rYeBD-",
        "colab": {
          "base_uri": "https://localhost:8080/",
          "height": 232
        },
        "outputId": "1cdb830c-ed74-4678-8271-6daab97f2056"
      },
      "source": [
        "## Reading dataset\n",
        "df = pd.read_csv(\"/content/drive/My Drive/propulsion.csv\")\n",
        "df = df.drop([df.columns[0]],axis = 1)\n",
        "df.columns = ['lever_pos', 'ship_spd', 'Gasturbine_torq', 'Gasturbine_rev',\n",
        "       'Gasgen_rev', 'starboard_torq', 'propeller_torq', 'hpturb_temp','GTcomp_intemp',\n",
        "       'GTcomp_outtemp', 'HPturb_press','GTcomp_inpress', 'GTcomp_outpress', 'Gastrub_press',\n",
        "       'turb_inject', 'Fuelflow', 'GTcomp_decay', 'GTturb_comp']\n",
        "print(df.shape)\n",
        "df.head()"
      ],
      "execution_count": null,
      "outputs": [
        {
          "output_type": "stream",
          "text": [
            "(10000, 18)\n"
          ],
          "name": "stdout"
        },
        {
          "output_type": "execute_result",
          "data": {
            "text/html": [
              "<div>\n",
              "<style scoped>\n",
              "    .dataframe tbody tr th:only-of-type {\n",
              "        vertical-align: middle;\n",
              "    }\n",
              "\n",
              "    .dataframe tbody tr th {\n",
              "        vertical-align: top;\n",
              "    }\n",
              "\n",
              "    .dataframe thead th {\n",
              "        text-align: right;\n",
              "    }\n",
              "</style>\n",
              "<table border=\"1\" class=\"dataframe\">\n",
              "  <thead>\n",
              "    <tr style=\"text-align: right;\">\n",
              "      <th></th>\n",
              "      <th>lever_pos</th>\n",
              "      <th>ship_spd</th>\n",
              "      <th>Gasturbine_torq</th>\n",
              "      <th>Gasturbine_rev</th>\n",
              "      <th>Gasgen_rev</th>\n",
              "      <th>starboard_torq</th>\n",
              "      <th>propeller_torq</th>\n",
              "      <th>hpturb_temp</th>\n",
              "      <th>GTcomp_intemp</th>\n",
              "      <th>GTcomp_outtemp</th>\n",
              "      <th>HPturb_press</th>\n",
              "      <th>GTcomp_inpress</th>\n",
              "      <th>GTcomp_outpress</th>\n",
              "      <th>Gastrub_press</th>\n",
              "      <th>turb_inject</th>\n",
              "      <th>Fuelflow</th>\n",
              "      <th>GTcomp_decay</th>\n",
              "      <th>GTturb_comp</th>\n",
              "    </tr>\n",
              "  </thead>\n",
              "  <tbody>\n",
              "    <tr>\n",
              "      <th>0</th>\n",
              "      <td>9.300</td>\n",
              "      <td>27.0</td>\n",
              "      <td>72762.205</td>\n",
              "      <td>3560.393</td>\n",
              "      <td>9753.812</td>\n",
              "      <td>644.806</td>\n",
              "      <td>644.806</td>\n",
              "      <td>1086.583</td>\n",
              "      <td>288.0</td>\n",
              "      <td>780.304</td>\n",
              "      <td>4.523</td>\n",
              "      <td>0.998</td>\n",
              "      <td>22.879</td>\n",
              "      <td>1.050</td>\n",
              "      <td>90.435</td>\n",
              "      <td>1.790</td>\n",
              "      <td>0.973</td>\n",
              "      <td>0.978</td>\n",
              "    </tr>\n",
              "    <tr>\n",
              "      <th>1</th>\n",
              "      <td>6.175</td>\n",
              "      <td>18.0</td>\n",
              "      <td>29760.552</td>\n",
              "      <td>2306.825</td>\n",
              "      <td>8780.012</td>\n",
              "      <td>246.011</td>\n",
              "      <td>246.011</td>\n",
              "      <td>776.921</td>\n",
              "      <td>288.0</td>\n",
              "      <td>665.511</td>\n",
              "      <td>2.518</td>\n",
              "      <td>0.998</td>\n",
              "      <td>13.438</td>\n",
              "      <td>1.030</td>\n",
              "      <td>34.596</td>\n",
              "      <td>0.685</td>\n",
              "      <td>0.995</td>\n",
              "      <td>0.975</td>\n",
              "    </tr>\n",
              "    <tr>\n",
              "      <th>2</th>\n",
              "      <td>3.144</td>\n",
              "      <td>9.0</td>\n",
              "      <td>8375.774</td>\n",
              "      <td>1386.739</td>\n",
              "      <td>7051.621</td>\n",
              "      <td>60.318</td>\n",
              "      <td>60.318</td>\n",
              "      <td>589.764</td>\n",
              "      <td>288.0</td>\n",
              "      <td>580.587</td>\n",
              "      <td>1.392</td>\n",
              "      <td>0.998</td>\n",
              "      <td>7.566</td>\n",
              "      <td>1.020</td>\n",
              "      <td>12.477</td>\n",
              "      <td>0.247</td>\n",
              "      <td>0.980</td>\n",
              "      <td>0.978</td>\n",
              "    </tr>\n",
              "    <tr>\n",
              "      <th>3</th>\n",
              "      <td>3.144</td>\n",
              "      <td>9.0</td>\n",
              "      <td>8377.589</td>\n",
              "      <td>1386.748</td>\n",
              "      <td>7098.469</td>\n",
              "      <td>60.339</td>\n",
              "      <td>60.339</td>\n",
              "      <td>570.651</td>\n",
              "      <td>288.0</td>\n",
              "      <td>576.565</td>\n",
              "      <td>1.390</td>\n",
              "      <td>0.998</td>\n",
              "      <td>7.409</td>\n",
              "      <td>1.021</td>\n",
              "      <td>11.678</td>\n",
              "      <td>0.231</td>\n",
              "      <td>0.984</td>\n",
              "      <td>1.000</td>\n",
              "    </tr>\n",
              "    <tr>\n",
              "      <th>4</th>\n",
              "      <td>6.175</td>\n",
              "      <td>18.0</td>\n",
              "      <td>29761.091</td>\n",
              "      <td>2306.825</td>\n",
              "      <td>8782.024</td>\n",
              "      <td>246.021</td>\n",
              "      <td>246.021</td>\n",
              "      <td>769.855</td>\n",
              "      <td>288.0</td>\n",
              "      <td>663.682</td>\n",
              "      <td>2.518</td>\n",
              "      <td>0.998</td>\n",
              "      <td>13.374</td>\n",
              "      <td>1.031</td>\n",
              "      <td>34.154</td>\n",
              "      <td>0.676</td>\n",
              "      <td>0.998</td>\n",
              "      <td>0.980</td>\n",
              "    </tr>\n",
              "  </tbody>\n",
              "</table>\n",
              "</div>"
            ],
            "text/plain": [
              "   lever_pos  ship_spd  Gasturbine_torq  ...  Fuelflow  GTcomp_decay  GTturb_comp\n",
              "0      9.300      27.0        72762.205  ...     1.790         0.973        0.978\n",
              "1      6.175      18.0        29760.552  ...     0.685         0.995        0.975\n",
              "2      3.144       9.0         8375.774  ...     0.247         0.980        0.978\n",
              "3      3.144       9.0         8377.589  ...     0.231         0.984        1.000\n",
              "4      6.175      18.0        29761.091  ...     0.676         0.998        0.980\n",
              "\n",
              "[5 rows x 18 columns]"
            ]
          },
          "metadata": {
            "tags": []
          },
          "execution_count": 2
        }
      ]
    },
    {
      "cell_type": "markdown",
      "metadata": {
        "id": "NwQLTlvm8CT4"
      },
      "source": [
        "# Checking misssing value"
      ]
    },
    {
      "cell_type": "code",
      "metadata": {
        "id": "hbzXSOTOeP6E",
        "colab": {
          "base_uri": "https://localhost:8080/"
        },
        "outputId": "f15b785b-2435-40db-e0b1-dea6e5be953b"
      },
      "source": [
        "### CHECKING MISSING VALUE\n",
        "check_missing_value = df.isnull().sum() != 0\n",
        "if check_missing_value.all():\n",
        "  print(\"Dataset has some missing value\")\n",
        "else:\n",
        "  print(\"Dataset does not contain any missing value\")"
      ],
      "execution_count": null,
      "outputs": [
        {
          "output_type": "stream",
          "text": [
            "Dataset does not contain any missing value\n"
          ],
          "name": "stdout"
        }
      ]
    },
    {
      "cell_type": "markdown",
      "metadata": {
        "id": "j-C5pPyX9QWX"
      },
      "source": [
        ""
      ]
    },
    {
      "cell_type": "code",
      "metadata": {
        "id": "fCOPvFTC9FUN",
        "colab": {
          "base_uri": "https://localhost:8080/"
        },
        "outputId": "21799e40-5bcb-4fe1-cfcf-e550e3725dd7"
      },
      "source": [
        "# Remove the columns that doesnot add any information \n",
        "print(df['GTcomp_intemp'].unique())\n",
        "print(df['GTcomp_inpress'].unique())\n",
        "print(\"BOTH THE FEATURES HAS SAME VALUES AND it NOT  CHANGE ANYTHING\")\n",
        "df = df.drop(['GTcomp_intemp','GTcomp_inpress'],axis=1)\n"
      ],
      "execution_count": null,
      "outputs": [
        {
          "output_type": "stream",
          "text": [
            "[288.]\n",
            "[0.998]\n",
            "BOTH THE FEATURES HAS SAME VALUES AND it NOT  CHANGE ANYTHING\n"
          ],
          "name": "stdout"
        }
      ]
    },
    {
      "cell_type": "markdown",
      "metadata": {
        "id": "1itT5qGj8XYF"
      },
      "source": [
        "# Correlation between Features"
      ]
    },
    {
      "cell_type": "code",
      "metadata": {
        "id": "xtpyQScz9FV7",
        "colab": {
          "base_uri": "https://localhost:8080/",
          "height": 377
        },
        "outputId": "3d161061-c6c1-4a75-de98-40e7d63be22b"
      },
      "source": [
        "data = df.drop(df.columns[-2:],axis = 1)\n",
        "corr  = data.corr()\n",
        "print(corr.shape)\n",
        "sns.heatmap(corr, vmax=1.0, square=True)"
      ],
      "execution_count": null,
      "outputs": [
        {
          "output_type": "stream",
          "text": [
            "(14, 14)\n"
          ],
          "name": "stdout"
        },
        {
          "output_type": "execute_result",
          "data": {
            "text/plain": [
              "<matplotlib.axes._subplots.AxesSubplot at 0x7f6ca7805f60>"
            ]
          },
          "metadata": {
            "tags": []
          },
          "execution_count": 5
        },
        {
          "output_type": "display_data",
          "data": {
            "image/png": "[encoded data removed]",
            "text/plain": [
              "<Figure size 432x288 with 2 Axes>"
            ]
          },
          "metadata": {
            "tags": [],
            "needs_background": "light"
          }
        }
      ]
    },
    {
      "cell_type": "code",
      "metadata": {
        "id": "tWP2SAdT9FZh",
        "colab": {
          "base_uri": "https://localhost:8080/",
          "height": 377
        },
        "outputId": "b150796a-1faa-4507-b05d-30cac7460837"
      },
      "source": [
        "data = data.drop(['ship_spd','starboard_torq', 'HPturb_press'],axis = 1)\n",
        "corr  = data.corr()\n",
        "print(corr.shape)\n",
        "sns.heatmap(corr, vmax=1.0, square=True)"
      ],
      "execution_count": null,
      "outputs": [
        {
          "output_type": "stream",
          "text": [
            "(11, 11)\n"
          ],
          "name": "stdout"
        },
        {
          "output_type": "execute_result",
          "data": {
            "text/plain": [
              "<matplotlib.axes._subplots.AxesSubplot at 0x7f6ca3c8a198>"
            ]
          },
          "metadata": {
            "tags": []
          },
          "execution_count": 6
        },
        {
          "output_type": "display_data",
          "data": {
            "image/png": "[encoded data removed]",
            "text/plain": [
              "<Figure size 432x288 with 2 Axes>"
            ]
          },
          "metadata": {
            "tags": [],
            "needs_background": "light"
          }
        }
      ]
    },
    {
      "cell_type": "markdown",
      "metadata": {
        "id": "1-X4CFyi8eZc"
      },
      "source": [
        "# Get Cleaned Data"
      ]
    },
    {
      "cell_type": "code",
      "metadata": {
        "id": "CK5NvkNgeQjA",
        "colab": {
          "base_uri": "https://localhost:8080/"
        },
        "outputId": "cd4369a9-9c3d-421f-934b-a05f0b8f67b7"
      },
      "source": [
        "\n",
        "GT_COMPRESSOR_Y = df['GTcomp_decay']\n",
        "DATA_X = df[data.columns]\n",
        "\n",
        "print(\"GT_COMPRESSOR_Y shape = \",GT_COMPRESSOR_Y.shape)\n",
        "print(\"DATA shape = \",DATA_X.shape)"
      ],
      "execution_count": null,
      "outputs": [
        {
          "output_type": "stream",
          "text": [
            "GT_COMPRESSOR_Y shape =  (10000,)\n",
            "DATA shape =  (10000, 11)\n"
          ],
          "name": "stdout"
        }
      ]
    },
    {
      "cell_type": "markdown",
      "metadata": {
        "id": "M5D6P9WW8wXi"
      },
      "source": [
        "# METRICS"
      ]
    },
    {
      "cell_type": "code",
      "metadata": {
        "id": "dB0Cf8wFeYUK"
      },
      "source": [
        "def mape(y_pred, y_true):\n",
        "  \"\"\" Mean Absolute Percentage Error \"\"\"\n",
        "  return np.mean(np.abs((y_true - y_pred) / y_true)) * 100\n",
        "def rmse(y_pred, y_true):\n",
        "  \"\"\" Root Mean Squared Error \"\"\"\n",
        "  return np.sqrt(((y_pred - y_true) ** 2).mean())"
      ],
      "execution_count": null,
      "outputs": []
    },
    {
      "cell_type": "markdown",
      "metadata": {
        "id": "gw3auoPh9Nn5"
      },
      "source": [
        "# Train Test Split"
      ]
    },
    {
      "cell_type": "code",
      "metadata": {
        "id": "COZ8qLxnegOn",
        "colab": {
          "base_uri": "https://localhost:8080/"
        },
        "outputId": "b354c664-7a3d-4a2e-b0af-d807c2facc24"
      },
      "source": [
        "## SPLITING THE DATA IN TRAIN AND TEST FOR VALIDATION OF OUR MODEL\n",
        "X_train, X_test, y_train, y_test = train_test_split(DATA_X, GT_COMPRESSOR_Y, test_size=0.20, random_state=42)\n",
        "print(\"X_train shape = \",X_train.shape)\n",
        "print(\"Y_train shape = \",y_train.shape)\n",
        "print(\"X_test shape = \",X_test.shape)\n",
        "print(\"Y_test shape = \",y_test.shape)"
      ],
      "execution_count": null,
      "outputs": [
        {
          "output_type": "stream",
          "text": [
            "X_train shape =  (8000, 11)\n",
            "Y_train shape =  (8000,)\n",
            "X_test shape =  (2000, 11)\n",
            "Y_test shape =  (2000,)\n"
          ],
          "name": "stdout"
        }
      ]
    },
    {
      "cell_type": "markdown",
      "metadata": {
        "id": "CEq1enoN9SNF"
      },
      "source": [
        "# Model"
      ]
    },
    {
      "cell_type": "markdown",
      "metadata": {
        "id": "oUiIMaEE9Uzz"
      },
      "source": [
        "## Linear Regression"
      ]
    },
    {
      "cell_type": "code",
      "metadata": {
        "id": "XzvXffkbelR0",
        "colab": {
          "base_uri": "https://localhost:8080/"
        },
        "outputId": "10773d25-8d3c-436d-bc92-a2eb57730cda"
      },
      "source": [
        "from sklearn.linear_model import LinearRegression\n",
        "reg = LinearRegression()\n",
        "reg.fit(X_train,y_train)\n",
        "train_predY = reg.predict(X_train)\n",
        "test_predY = reg.predict(X_test)\n",
        "print(\"TRAIN ROOT MEAN SQUARED ERROR = \",rmse(np.array(train_predY),np.array(y_train)))\n",
        "print(\"TEST ROOT MEAN SQUARED ERROR= \",rmse(np.array(test_predY),np.array(y_test)))\n",
        "print(\"TRAIN MEDIAN ABSOLUTE PERCENTAGE ERROR = \",mape(np.array(train_predY),np.array(y_train)))\n",
        "print(\"TEST MEDIAN ABSOLUTE PERCENTAGE ERROR= \",mape(np.array(test_predY),np.array(y_test)))"
      ],
      "execution_count": null,
      "outputs": [
        {
          "output_type": "stream",
          "text": [
            "TRAIN ROOT MEAN SQUARED ERROR =  0.006760831019538187\n",
            "TEST ROOT MEAN SQUARED ERROR=  0.0066521469737015095\n",
            "TRAIN MEDIAN ABSOLUTE PERCENTAGE ERROR =  0.5705679564447512\n",
            "TEST MEDIAN ABSOLUTE PERCENTAGE ERROR=  0.5590470425074292\n"
          ],
          "name": "stdout"
        }
      ]
    },
    {
      "cell_type": "markdown",
      "metadata": {
        "id": "dScJkPc09gzN"
      },
      "source": [
        "## Ridge Regression "
      ]
    },
    {
      "cell_type": "code",
      "metadata": {
        "id": "O_8ZExw5v59k",
        "colab": {
          "base_uri": "https://localhost:8080/"
        },
        "outputId": "26176972-2d6c-4d78-a363-8b9114e8ef97"
      },
      "source": [
        "## Hyperparmater Tuning of Parameter\n",
        "params  ={\"alpha\":[0.001,0.01,0.05,0.5,0.1,1,0.00001,0.003,0.005,0.00005]}\n",
        "reg = Ridge()\n",
        "GridCV = GridSearchCV(reg,params,cv= 3)\n",
        "GridCV.fit(X_train,y_train)\n",
        "print(GridCV.best_params_)"
      ],
      "execution_count": null,
      "outputs": [
        {
          "output_type": "stream",
          "text": [
            "{'alpha': 0.001}\n"
          ],
          "name": "stdout"
        }
      ]
    },
    {
      "cell_type": "code",
      "metadata": {
        "id": "keKCcCubwxUz",
        "colab": {
          "base_uri": "https://localhost:8080/"
        },
        "outputId": "46b0de20-7edc-4946-e509-a193b0c6b84a"
      },
      "source": [
        "reg = Ridge(alpha = 0.001)\n",
        "reg.fit(X_train,y_train)\n",
        "train_predY = reg.predict(X_train)\n",
        "test_predY = reg.predict(X_test)\n",
        "print(\"TRAIN ROOT MEAN SQUARED ERROR = \",rmse(np.array(train_predY),np.array(y_train)))\n",
        "print(\"TEST ROOT MEAN SQUARED ERROR= \",rmse(np.array(test_predY),np.array(y_test)))\n",
        "print(\"TRAIN MEDIAN ABSOLUTE PERCENTAGE ERROR = \",mape(np.array(train_predY),np.array(y_train)))\n",
        "print(\"TEST MEDIAN ABSOLUTE PERCENTAGE ERROR= \",mape(np.array(test_predY),np.array(y_test)))"
      ],
      "execution_count": null,
      "outputs": [
        {
          "output_type": "stream",
          "text": [
            "TRAIN ROOT MEAN SQUARED ERROR =  0.006761540825085228\n",
            "TEST ROOT MEAN SQUARED ERROR=  0.006652746586134441\n",
            "TRAIN MEDIAN ABSOLUTE PERCENTAGE ERROR =  0.5706117606291065\n",
            "TEST MEDIAN ABSOLUTE PERCENTAGE ERROR=  0.558988090912457\n"
          ],
          "name": "stdout"
        }
      ]
    },
    {
      "cell_type": "markdown",
      "metadata": {
        "id": "kpUy4rbN9oub"
      },
      "source": [
        "## Lasso Regression"
      ]
    },
    {
      "cell_type": "code",
      "metadata": {
        "id": "Rn2-OQi4zdPD",
        "colab": {
          "base_uri": "https://localhost:8080/"
        },
        "outputId": "b7a36607-f33a-4847-e88c-cc46f303db7f"
      },
      "source": [
        "params  ={\"alpha\":[0.001,0.01,0.05,0.5,0.1,1,0.00001,0.003,0.005,0.00005]}\n",
        "reg = Lasso()\n",
        "GridCV = GridSearchCV(reg,params,cv= 3)\n",
        "GridCV.fit(X_train,y_train)\n",
        "print(GridCV.best_params_)"
      ],
      "execution_count": null,
      "outputs": [
        {
          "output_type": "stream",
          "text": [
            "{'alpha': 1e-05}\n"
          ],
          "name": "stdout"
        }
      ]
    },
    {
      "cell_type": "code",
      "metadata": {
        "id": "-pBxK1vczhAN",
        "colab": {
          "base_uri": "https://localhost:8080/"
        },
        "outputId": "a39d8fd3-4923-4ff1-a637-7a6f2dee17b1"
      },
      "source": [
        "reg = Lasso(alpha = 1e-05)\n",
        "reg.fit(X_train,y_train)\n",
        "train_predY = reg.predict(X_train)\n",
        "test_predY = reg.predict(X_test)\n",
        "print(\"TRAIN ROOT MEAN SQUARED ERROR = \",rmse(np.array(train_predY),np.array(y_train)))\n",
        "print(\"TEST ROOT MEAN SQUARED ERROR= \",rmse(np.array(test_predY),np.array(y_test)))\n",
        "print(\"TRAIN MEDIAN ABSOLUTE PERCENTAGE ERROR = \",mape(np.array(train_predY),np.array(y_train)))\n",
        "print(\"TEST MEDIAN ABSOLUTE PERCENTAGE ERROR= \",mape(np.array(test_predY),np.array(y_test)))"
      ],
      "execution_count": null,
      "outputs": [
        {
          "output_type": "stream",
          "text": [
            "TRAIN ROOT MEAN SQUARED ERROR =  0.007665500431505776\n",
            "TEST ROOT MEAN SQUARED ERROR=  0.007577555668985967\n",
            "TRAIN MEDIAN ABSOLUTE PERCENTAGE ERROR =  0.6619951426480849\n",
            "TEST MEDIAN ABSOLUTE PERCENTAGE ERROR=  0.6539042832309857\n"
          ],
          "name": "stdout"
        }
      ]
    },
    {
      "cell_type": "markdown",
      "metadata": {
        "id": "r1TOv_0q9sZV"
      },
      "source": [
        "## Support Vector Machine Linear Regression"
      ]
    },
    {
      "cell_type": "code",
      "metadata": {
        "id": "4ZF6Gc-I_wBR",
        "colab": {
          "base_uri": "https://localhost:8080/"
        },
        "outputId": "3cef3db6-01e6-45c5-f403-b44ffd4215da"
      },
      "source": [
        "## Hyerparameter Tuning of parameter\n",
        "from sklearn.svm import LinearSVR\n",
        "params  ={\"epsilon\":[0.001,0.01,0.05,0.5,0.1,1,0.00001,0.003,0.005,0.00005],\n",
        "          \"C\":[x for x in np.linspace(0.01,1,10)],\n",
        "          \"loss\":['epsilon_insensitive', 'squared_epsilon_insensitive']\n",
        "          }\n",
        "reg = LinearSVR()\n",
        "GridCV = GridSearchCV(reg,params,cv= 3)\n",
        "GridCV.fit(X_train,y_train)\n",
        "print(GridCV.best_params_)"
      ],
      "execution_count": null,
      "outputs": [
        {
          "output_type": "stream",
          "text": [
            "{'C': 0.45, 'epsilon': 0.001, 'loss': 'squared_epsilon_insensitive'}\n"
          ],
          "name": "stdout"
        }
      ]
    },
    {
      "cell_type": "code",
      "metadata": {
        "id": "FvaOSVkLB-WW",
        "colab": {
          "base_uri": "https://localhost:8080/"
        },
        "outputId": "916425cd-f69d-4a73-c647-238ad1ef14d5"
      },
      "source": [
        "# Train the linear SVR\n",
        "reg = LinearSVR(C= 0.45, epsilon= 1e-05, loss= 'epsilon_insensitive')\n",
        "reg.fit(X_train,y_train)\n",
        "train_predY = reg.predict(X_train)\n",
        "test_predY = reg.predict(X_test)\n",
        "print(\"TRAIN ROOT MEAN SQUARED ERROR = \",rmse(np.array(train_predY),np.array(y_train)))\n",
        "print(\"TEST ROOT MEAN SQUARED ERROR= \",rmse(np.array(test_predY),np.array(y_test)))\n",
        "print(\"TRAIN MEAN ABSOLUTE PERCENTAGE ERROR = \",mape(np.array(train_predY),np.array(y_train)))\n",
        "print(\"TEST MEAN ABSOLUTE PERCENTAGE ERROR= \",mape(np.array(test_predY),np.array(y_test)))"
      ],
      "execution_count": null,
      "outputs": [
        {
          "output_type": "stream",
          "text": [
            "TRAIN ROOT MEAN SQUARED ERROR =  0.11021397365503334\n",
            "TEST ROOT MEAN SQUARED ERROR=  0.11062747733987176\n",
            "TRAIN MEAN ABSOLUTE PERCENTAGE ERROR =  8.623394043850057\n",
            "TEST MEAN ABSOLUTE PERCENTAGE ERROR=  8.709471368375395\n"
          ],
          "name": "stdout"
        }
      ]
    },
    {
      "cell_type": "markdown",
      "metadata": {
        "id": "iaa1BOpg-BUA"
      },
      "source": [
        "## RandomForest Regression"
      ]
    },
    {
      "cell_type": "code",
      "metadata": {
        "id": "5GfIkhZPeoXk"
      },
      "source": [
        "### HyperParameter Tuning of Parameter\n",
        "# Number of trees in random forest\n",
        "n_estimators = [int(x) for x in np.linspace(start = 50, stop = 1000, num = 20)]\n",
        "# Number of features to consider at every split\n",
        "max_features = ['auto', 'sqrt']\n",
        "# Maximum number of levels in tree\n",
        "max_depth = [int(x) for x in np.linspace(5, 200, num = 20)]\n",
        "max_depth.append(None)\n",
        "# Minimum number of samples required to split a node\n",
        "min_samples_split = [int(x) for x in np.linspace(start = 1, stop = 20, num = 10)]\n",
        "# Minimum number of samples required at each leaf node\n",
        "min_samples_leaf = [int(x) for x in np.linspace(start = 1, stop = 20, num = 10)]\n",
        "# Method of selecting samples for training each tree\n",
        "bootstrap = [True, False]\n",
        "# Create the random grid\n",
        "# Create the random grid\n",
        "random_grid = {'n_estimators': n_estimators,\n",
        "               'max_features': max_features,\n",
        "               'max_depth': max_depth,\n",
        "               'min_samples_split': min_samples_split,\n",
        "               'min_samples_leaf': min_samples_leaf,\n",
        "               'bootstrap': bootstrap}\n",
        "rf = RandomForestRegressor()\n",
        "rf_random = RandomizedSearchCV(estimator = rf, param_distributions = random_grid, n_iter = 100, cv = 5, verbose=0, random_state=42, n_jobs = -1)\n",
        "rf_random.fit(X_train,y_train)"
      ],
      "execution_count": null,
      "outputs": []
    },
    {
      "cell_type": "code",
      "metadata": {
        "id": "u-eADFABetuv",
        "colab": {
          "base_uri": "https://localhost:8080/"
        },
        "outputId": "417a49ca-784d-4314-f3d1-cc03eed31e31"
      },
      "source": [
        "print(rf_random.best_params_)"
      ],
      "execution_count": null,
      "outputs": [
        {
          "output_type": "stream",
          "text": [
            "{'n_estimators': 200, 'min_samples_split': 3, 'min_samples_leaf': 1, 'max_features': 'auto', 'max_depth': 46, 'bootstrap': True}\n"
          ],
          "name": "stdout"
        }
      ]
    },
    {
      "cell_type": "code",
      "metadata": {
        "id": "h2mnP3AIrnM8",
        "colab": {
          "base_uri": "https://localhost:8080/"
        },
        "outputId": "6c3f4abd-4d39-4e4d-ac7c-fbcc592bc0f0"
      },
      "source": [
        "## Training of RandomForestRegressor\n",
        "rf = RandomForestRegressor(n_estimators=200, min_samples_split= 3, min_samples_leaf=1, max_features='sqrt', max_depth= 46, bootstrap=False)\n",
        "rf.fit(X_train,y_train)\n",
        "train_predY = rf.predict(X_train)\n",
        "test_predY = rf.predict(X_test)\n",
        "print(\"TRAIN ROOT MEAN SQUARED ERROR = \",rmse(np.array(train_predY),np.array(y_train)))\n",
        "print(\"TEST ROOT MEAN SQUARED ERROR= \",rmse(np.array(test_predY),np.array(y_test)))\n",
        "print(\"TRAIN MEDIAN ABSOLUTE PERCENTAGE ERROR = \",mape(np.array(train_predY),np.array(y_train)))\n",
        "print(\"TEST MEDIAN ABSOLUTE PERCENTAGE ERROR= \",mape(np.array(test_predY),np.array(y_test)))"
      ],
      "execution_count": null,
      "outputs": [
        {
          "output_type": "stream",
          "text": [
            "TRAIN ROOT MEAN SQUARED ERROR =  0.00010362382567572502\n",
            "TEST ROOT MEAN SQUARED ERROR=  0.0010327508456785804\n",
            "TRAIN MEDIAN ABSOLUTE PERCENTAGE ERROR =  0.005326105151010821\n",
            "TEST MEDIAN ABSOLUTE PERCENTAGE ERROR=  0.05334381041727338\n"
          ],
          "name": "stdout"
        }
      ]
    },
    {
      "cell_type": "markdown",
      "metadata": {
        "id": "A1YDqTW5-SiO"
      },
      "source": [
        "## Gradient Boosting Decision Tree"
      ]
    },
    {
      "cell_type": "code",
      "metadata": {
        "id": "h-r3ilYVsVav",
        "colab": {
          "base_uri": "https://localhost:8080/"
        },
        "outputId": "4a914111-18fd-4e00-cad6-faebb5b752c1"
      },
      "source": [
        "\n",
        "### Hyperparameter Tuning of Parameter\n",
        "gridParams = {\n",
        "    'learning_rate': [0.1, 0.05, 0.01, 0.005,0.001,0.02,0.5],\n",
        "    'n_estimators': [int(x) for x in np.linspace(start = 50,stop = 1000,num = 12)],\n",
        "    'num_leaves': [int(x) for x in np.linspace(start = 20, stop = 600, num = 10)],\n",
        "    'boosting_type' : ['gbdt', 'dart','goss'],\n",
        "    'objective' : ['regression'],\n",
        "    'max_depth': [3, 4, 5, 6, 8, 12, 16, -1],\n",
        "    'random_state' : [501], \n",
        "    'colsample_bytree' : [0.5,0.7,0.9,0.2,0.1],\n",
        "    'subsample' : [0.5,0.7,0.6,0.9,0.2,0.01],\n",
        "    'min_split_gain' : [0.01,0.5,0.001,0.0,0.1,0.0001],\n",
        "    'min_child_weight' : [0.001,0.00001,0.1,0.0001,0.002,0.005,0.0005],\n",
        "    'min_child_samples': [20,5,6,7,8,9,10,12,25,15,18],\n",
        "    'min_data_in_leaf': [10, 20, 40, 60, 100],\n",
        "    'reg_alpha':[0,0.1,0.002,0.005,0.0001,0.0005,0.00006]\n",
        "    }\n",
        "reg  = lgb.LGBMRegressor(eval_metric = 'rmse')\n",
        "randomSearchCV = RandomizedSearchCV(reg,gridParams,n_iter = 1000,n_jobs=-1,cv=3)\n",
        "randomSearchCV.fit(X_train,y_train)\n",
        "print(randomSearchCV.best_params_)\n"
      ],
      "execution_count": null,
      "outputs": [
        {
          "output_type": "stream",
          "text": [
            "{'subsample': 0.6, 'reg_alpha': 0.0001, 'random_state': 501, 'objective': 'regression', 'num_leaves': 84, 'n_estimators': 827, 'min_split_gain': 0.0, 'min_data_in_leaf': 20, 'min_child_weight': 0.005, 'min_child_samples': 6, 'max_depth': 16, 'learning_rate': 0.1, 'colsample_bytree': 0.9, 'boosting_type': 'gbdt'}\n"
          ],
          "name": "stdout"
        }
      ]
    },
    {
      "cell_type": "code",
      "metadata": {
        "id": "SVyVFBL_oySU",
        "colab": {
          "base_uri": "https://localhost:8080/"
        },
        "outputId": "3bdfbf45-9141-4269-aabc-688e0d2f8bb7"
      },
      "source": [
        "# Training the LGBMRegressor\n",
        "import lightgbm as lgb\n",
        "reg  = lgb.LGBMRegressor(subsample = 0.6,reg_alpha =  0.0001 ,random_state= 501, objective= 'regression', num_leaves= 84 , n_estimators = 827 ,min_split_gain=0.0, min_data_in_leaf=20,min_child_weight=0.005,min_child_samples= 6,max_depth= 16, learning_rate= 0.1, colsample_bytree= 0.9, boosting_type= 'gbdt',eval_metrics = 'rmse')\n",
        "reg.fit(X_train,y_train)\n",
        "train_predY = reg.predict(X_train)\n",
        "test_predY = reg.predict(X_test)\n",
        "print(\"TRAIN ROOT MEAN SQUARED ERROR = \",rmse(np.array(train_predY),np.array(y_train)))\n",
        "print(\"TEST ROOT MEAN SQUARED ERROR= \",rmse(np.array(test_predY),np.array(y_test)))\n",
        "print(\"TRAIN MEDIAN ABSOLUTE PERCENTAGE ERROR = \",mape(np.array(train_predY),np.array(y_train)))\n",
        "print(\"TEST MEDIAN ABSOLUTE PERCENTAGE ERROR= \",mape(np.array(test_predY),np.array(y_test)))"
      ],
      "execution_count": null,
      "outputs": [
        {
          "output_type": "stream",
          "text": [
            "TRAIN ROOT MEAN SQUARED ERROR =  0.00039039313549504975\n",
            "TEST ROOT MEAN SQUARED ERROR=  0.0009986008001382299\n",
            "TRAIN MEDIAN ABSOLUTE PERCENTAGE ERROR =  0.030877441338883954\n",
            "TEST MEDIAN ABSOLUTE PERCENTAGE ERROR=  0.06507419921074402\n"
          ],
          "name": "stdout"
        }
      ]
    },
    {
      "cell_type": "markdown",
      "metadata": {
        "id": "kYJH6rcU-MYu"
      },
      "source": [
        "# Feature Importance"
      ]
    },
    {
      "cell_type": "code",
      "metadata": {
        "id": "y5ZGH7RrpbSQ",
        "colab": {
          "base_uri": "https://localhost:8080/",
          "height": 500
        },
        "outputId": "cee6e647-9555-4f9c-a486-51caae107b5b"
      },
      "source": [
        "features = X_train.columns\n",
        "importances = reg.feature_importances_\n",
        "indices = np.argsort(importances)\n",
        "plt.figure(figsize=(10,7))\n",
        "plt.title('Feature Importances')\n",
        "plt.barh(range(len(indices)), importances[indices], color='b', align='center')\n",
        "plt.yticks(range(len(indices)), [features[i] for i in indices])\n",
        "plt.xlabel('Relative Importance')\n",
        "plt.show()"
      ],
      "execution_count": null,
      "outputs": [
        {
          "output_type": "display_data",
          "data": {
            "image/png": "[encoded data removed]",
            "text/plain": [
              "<Figure size 720x504 with 1 Axes>"
            ]
          },
          "metadata": {
            "tags": []
          }
        }
      ]
    },
    {
      "cell_type": "markdown",
      "metadata": {
        "id": "ucJgbC_g-zkf"
      },
      "source": [
        "# DEEP LEARNING MODEL"
      ]
    },
    {
      "cell_type": "markdown",
      "metadata": {
        "id": "OoJikOud-m1f"
      },
      "source": [
        "## Import Library "
      ]
    },
    {
      "cell_type": "code",
      "metadata": {
        "id": "I6gTf9ne-106"
      },
      "source": [
        "import tensorflow as tf\n",
        "\n",
        "from tensorflow import keras\n",
        "from tensorflow.keras import layers\n",
        "from tensorflow.keras.layers.experimental import preprocessing\n",
        "import  tensorflow.keras.backend as K\n",
        "## Defining Scheduler\n",
        "lr_scheduler = tf.keras.callbacks.ReduceLROnPlateau(\n",
        "    monitor='val_loss', factor=0.001, patience=5, verbose=1, mode='auto')"
      ],
      "execution_count": null,
      "outputs": []
    },
    {
      "cell_type": "markdown",
      "metadata": {
        "id": "yzQxtYA_-qJC"
      },
      "source": [
        "## Metrics"
      ]
    },
    {
      "cell_type": "code",
      "metadata": {
        "id": "aRpvdut4JXGQ"
      },
      "source": [
        "def mape(y_true,y_pred):\n",
        "  \"\"\" Mean Absolute Percentage Error\"\"\"\n",
        "  return K.mean(K.abs((y_true - y_pred) / y_true)) * 100\n",
        "def rmse( y_true,y_pred):\n",
        "  \"\"\" Root Mean Squared Error \"\"\"\n",
        "  return K.mean(K.sqrt((( y_true - y_pred ) ** 2)))"
      ],
      "execution_count": null,
      "outputs": []
    },
    {
      "cell_type": "markdown",
      "metadata": {
        "id": "3CUTvrW2-1fR"
      },
      "source": [
        "## Define Model Architecture"
      ]
    },
    {
      "cell_type": "code",
      "metadata": {
        "id": "s80Rgwzq-4Ot"
      },
      "source": [
        "## Normalize Layer\n",
        "norm = preprocessing.Normalization(input_shape=[11,])\n",
        "\n",
        "norm.adapt(np.array(X_train))\n",
        "## Define weight Intializer for Relu activation \n",
        "initializer = tf.keras.initializers.HeUniform()"
      ],
      "execution_count": null,
      "outputs": []
    },
    {
      "cell_type": "code",
      "metadata": {
        "id": "ujZAW83qFuyW",
        "colab": {
          "base_uri": "https://localhost:8080/"
        },
        "outputId": "bedc4492-08fd-4b66-abbc-452aa1611625"
      },
      "source": [
        "## Define the Architecture\n",
        "model = tf.keras.Sequential()\n",
        "model.add(norm)\n",
        "model.add(layers.Dense(512,kernel_initializer=initializer,activation = 'relu'))\n",
        "model.add(layers.Dense(256,kernel_initializer=initializer,activation = 'relu'))\n",
        "\n",
        "\n",
        "model.add(layers.Dense(128,kernel_initializer=initializer,activation = 'relu'))\n",
        "model.add(layers.Dense(64,kernel_initializer=initializer,activation = 'relu'))\n",
        "model.add(layers.Dense(32,kernel_initializer=initializer,activation = 'relu'))\n",
        "model.add(layers.Dense(32,kernel_initializer=initializer,activation = 'relu'))\n",
        "\n",
        "\n",
        "model.add(layers.Dense(12,kernel_initializer=initializer,activation='relu'))\n",
        "model.add(layers.Dense(1,kernel_initializer='normal'))\n",
        "model.summary()"
      ],
      "execution_count": null,
      "outputs": [
        {
          "output_type": "stream",
          "text": [
            "Model: \"sequential_5\"\n",
            "_________________________________________________________________\n",
            "Layer (type)                 Output Shape              Param #   \n",
            "=================================================================\n",
            "normalization (Normalization (None, 11)                23        \n",
            "_________________________________________________________________\n",
            "dense_32 (Dense)             (None, 512)               6144      \n",
            "_________________________________________________________________\n",
            "dense_33 (Dense)             (None, 256)               131328    \n",
            "_________________________________________________________________\n",
            "dense_34 (Dense)             (None, 128)               32896     \n",
            "_________________________________________________________________\n",
            "dense_35 (Dense)             (None, 64)                8256      \n",
            "_________________________________________________________________\n",
            "dense_36 (Dense)             (None, 32)                2080      \n",
            "_________________________________________________________________\n",
            "dense_37 (Dense)             (None, 32)                1056      \n",
            "_________________________________________________________________\n",
            "dense_38 (Dense)             (None, 12)                396       \n",
            "_________________________________________________________________\n",
            "dense_39 (Dense)             (None, 1)                 13        \n",
            "=================================================================\n",
            "Total params: 182,192\n",
            "Trainable params: 182,169\n",
            "Non-trainable params: 23\n",
            "_________________________________________________________________\n"
          ],
          "name": "stdout"
        }
      ]
    },
    {
      "cell_type": "code",
      "metadata": {
        "id": "NP9jKbtmGQT6",
        "colab": {
          "base_uri": "https://localhost:8080/"
        },
        "outputId": "2add96c6-9a5a-4b02-b888-32ff5073a80d"
      },
      "source": [
        "model.compile(optimizer=tf.optimizers.Adam(learning_rate=0.01),loss=rmse)\n",
        "histroy = model.fit(X_train,y_train,batch_size =128,epochs=20,validation_data=(X_test,y_test),callbacks=lr_scheduler)"
      ],
      "execution_count": null,
      "outputs": [
        {
          "output_type": "stream",
          "text": [
            "Epoch 1/20\n",
            "63/63 [==============================] - 1s 9ms/step - loss: 0.2583 - val_loss: 0.0565\n",
            "Epoch 2/20\n",
            "63/63 [==============================] - 0s 7ms/step - loss: 0.0584 - val_loss: 0.0422\n",
            "Epoch 3/20\n",
            "63/63 [==============================] - 0s 7ms/step - loss: 0.0335 - val_loss: 0.0247\n",
            "Epoch 4/20\n",
            "63/63 [==============================] - 0s 7ms/step - loss: 0.0258 - val_loss: 0.0381\n",
            "Epoch 5/20\n",
            "63/63 [==============================] - 0s 7ms/step - loss: 0.0371 - val_loss: 0.0452\n",
            "Epoch 6/20\n",
            "63/63 [==============================] - 0s 7ms/step - loss: 0.0185 - val_loss: 0.0217\n",
            "Epoch 7/20\n",
            "63/63 [==============================] - 0s 6ms/step - loss: 0.0144 - val_loss: 0.0097\n",
            "Epoch 8/20\n",
            "63/63 [==============================] - 0s 7ms/step - loss: 0.0154 - val_loss: 0.0110\n",
            "Epoch 9/20\n",
            "63/63 [==============================] - 0s 7ms/step - loss: 0.0114 - val_loss: 0.0157\n",
            "Epoch 10/20\n",
            "63/63 [==============================] - 0s 7ms/step - loss: 0.0115 - val_loss: 0.0115\n",
            "Epoch 11/20\n",
            "63/63 [==============================] - 0s 7ms/step - loss: 0.0094 - val_loss: 0.0134\n",
            "Epoch 12/20\n",
            "62/63 [============================>.] - ETA: 0s - loss: 0.0092\n",
            "Epoch 00012: ReduceLROnPlateau reducing learning rate to 9.999999776482582e-06.\n",
            "63/63 [==============================] - 0s 7ms/step - loss: 0.0093 - val_loss: 0.0218\n",
            "Epoch 13/20\n",
            "63/63 [==============================] - 0s 7ms/step - loss: 0.0171 - val_loss: 0.0125\n",
            "Epoch 14/20\n",
            "63/63 [==============================] - 0s 7ms/step - loss: 0.0101 - val_loss: 0.0081\n",
            "Epoch 15/20\n",
            "63/63 [==============================] - 0s 7ms/step - loss: 0.0061 - val_loss: 0.0046\n",
            "Epoch 16/20\n",
            "63/63 [==============================] - 0s 7ms/step - loss: 0.0038 - val_loss: 0.0036\n",
            "Epoch 17/20\n",
            "63/63 [==============================] - 0s 7ms/step - loss: 0.0034 - val_loss: 0.0034\n",
            "Epoch 18/20\n",
            "63/63 [==============================] - 0s 7ms/step - loss: 0.0033 - val_loss: 0.0034\n",
            "Epoch 19/20\n",
            "63/63 [==============================] - 0s 6ms/step - loss: 0.0032 - val_loss: 0.0033\n",
            "Epoch 20/20\n",
            "63/63 [==============================] - 0s 7ms/step - loss: 0.0032 - val_loss: 0.0033\n"
          ],
          "name": "stdout"
        }
      ]
    },
    {
      "cell_type": "code",
      "metadata": {
        "colab": {
          "base_uri": "https://localhost:8080/"
        },
        "id": "f44NjmQ4W9Mh",
        "outputId": "cdca92f4-cf39-4b1d-b25b-841578313e7c"
      },
      "source": [
        "model.predict(X_train)"
      ],
      "execution_count": null,
      "outputs": [
        {
          "output_type": "execute_result",
          "data": {
            "text/plain": [
              "array([[0.99420637],\n",
              "       [0.97547615],\n",
              "       [0.96680856],\n",
              "       ...,\n",
              "       [0.954793  ],\n",
              "       [0.96171486],\n",
              "       [0.9677044 ]], dtype=float32)"
            ]
          },
          "metadata": {
            "tags": []
          },
          "execution_count": 34
        }
      ]
    },
    {
      "cell_type": "markdown",
      "metadata": {
        "id": "06JEXJZWXbfw"
      },
      "source": [
        "## Performance of Model"
      ]
    },
    {
      "cell_type": "code",
      "metadata": {
        "id": "IiPDDlL_69Px",
        "colab": {
          "base_uri": "https://localhost:8080/"
        },
        "outputId": "b3e3d9d9-9857-4500-f1ec-beb3ace478c9"
      },
      "source": [
        "train_predY = model.predict(X_train)\n",
        "test_predY = model.predict(X_test)\n",
        "y_train  = np.array(y_train).reshape(-1,1)\n",
        "y_test = np.array(y_test).reshape(-1,1)\n",
        "print(\"TRAIN ROOT MEAN SQUARED ERROR = \",rmse(train_predY,y_train))\n",
        "print(\"TEST ROOT MEAN SQUARED ERROR= \",rmse(test_predY,y_test))\n",
        "print(\"TRAIN MEAN ABSOLUTE PERCENTAGE ERROR = \",mape(train_predY,y_train))\n",
        "print(\"TEST MEAN ABSOLUTE PERCENTAGE ERROR= \",mape(test_predY,y_test))"
      ],
      "execution_count": null,
      "outputs": [
        {
          "output_type": "stream",
          "text": [
            "TRAIN ROOT MEAN SQUARED ERROR =  0.004144413135715433\n",
            "TEST ROOT MEAN SQUARED ERROR=  0.004293369742156019\n",
            "TRAIN MEAN ABSOLUTE PERCENTAGE ERROR =  0.32499566063506025\n",
            "TEST MEAN ABSOLUTE PERCENTAGE ERROR=  0.3377613006515749\n"
          ],
          "name": "stdout"
        }
      ]
    },
    {
      "cell_type": "markdown",
      "metadata": {
        "id": "ghouT2r9OPdm"
      },
      "source": [
        "# Summary"
      ]
    },
    {
      "cell_type": "code",
      "metadata": {
        "id": "TFyhk7io5xMN",
        "colab": {
          "base_uri": "https://localhost:8080/"
        },
        "outputId": "459fd8c3-a98d-4a5d-fb53-fa3143fc772b"
      },
      "source": [
        "from prettytable import PrettyTable\n",
        "    \n",
        "x = PrettyTable()\n",
        "\n",
        "x.field_names = [\"Model\", \"Train_rmse\", \"Test_rmse\", \"Train_mape\",\"Test_mape\"]\n",
        "\n",
        "x.add_row([\"Linear Regression\", 0.0067,0.0066,0.57,0.55])\n",
        "x.add_row([\"Ridge Regression\",0.0067,0.0066,0.57,0.65])\n",
        "x.add_row([\"Lasso Regression\", 0.0076,0.0075,0.66,0.65])\n",
        "x.add_row([\"SVR Regression\", 0.1102,0.1106,8.62,8.70])\n",
        "x.add_row([\"RandomForest Regression\", 0.0001,0.001,0.005,0.05])\n",
        "x.add_row([\"GBDT Regression\", 0.0003,0.0005,0.03,0.06])\n",
        "x.add_row([\"Deep Learning Model\", 0.0041,0.0042,0.32499,0.3377])\n",
        "print(x)"
      ],
      "execution_count": null,
      "outputs": [
        {
          "output_type": "stream",
          "text": [
            "+-------------------------+------------+-----------+------------+-----------+\n",
            "|          Model          | Train_rmse | Test_rmse | Train_mape | Test_mape |\n",
            "+-------------------------+------------+-----------+------------+-----------+\n",
            "|    Linear Regression    |   0.0067   |   0.0066  |    0.57    |    0.55   |\n",
            "|     Ridge Regression    |   0.0067   |   0.0066  |    0.57    |    0.65   |\n",
            "|     Lasso Regression    |   0.0076   |   0.0075  |    0.66    |    0.65   |\n",
            "|      SVR Regression     |   0.1102   |   0.1106  |    8.62    |    8.7    |\n",
            "| RandomForest Regression |   0.0001   |   0.001   |   0.005    |    0.05   |\n",
            "|     GBDT Regression     |   0.0003   |   0.0005  |    0.03    |    0.06   |\n",
            "|   Deep Learning Model   |   0.0041   |   0.0042  |  0.32499   |   0.3377  |\n",
            "+-------------------------+------------+-----------+------------+-----------+\n"
          ],
          "name": "stdout"
        }
      ]
    },
    {
      "cell_type": "markdown",
      "metadata": {
        "id": "SRJcZJJeqw5z"
      },
      "source": [
        "Clearly, Grandient Boosting Decision Tree  perform best."
      ]
    },
    {
      "cell_type": "markdown",
      "metadata": {
        "id": "_ynjkF_uq-E2"
      },
      "source": [
        "*Sorry For Spelling Mistake if you found any*"
      ]
    },
    {
      "cell_type": "code",
      "metadata": {
        "id": "cq5Jn0x0XqVV"
      },
      "source": [
        ""
      ],
      "execution_count": null,
      "outputs": []
    }
  ]
}